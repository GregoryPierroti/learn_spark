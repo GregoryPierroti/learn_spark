{
 "cells": [
  {
   "cell_type": "code",
   "execution_count": 2,
   "id": "682e871d",
   "metadata": {},
   "outputs": [],
   "source": [
    "import os, sys\n",
    "from pyspark.sql import SparkSession\n",
    "from pyspark.sql.functions import *\n",
    "from pyspark.sql.types import *"
   ]
  },
  {
   "cell_type": "code",
   "execution_count": 3,
   "id": "d15774a8",
   "metadata": {},
   "outputs": [],
   "source": [
    "os.environ['PYSPARK_PYTHON'] = sys.executable\n",
    "os.environ['PYSPARK_DRIVER_PYTHON'] = sys.executable"
   ]
  },
  {
   "cell_type": "code",
   "execution_count": 4,
   "id": "16fe27b3",
   "metadata": {},
   "outputs": [],
   "source": [
    "spark = SparkSession.builder.getOrCreate()"
   ]
  },
  {
   "cell_type": "markdown",
   "id": "e9ed62ed",
   "metadata": {},
   "source": [
    "### Create dataframe"
   ]
  },
  {
   "cell_type": "code",
   "execution_count": 5,
   "id": "f5b99d6d",
   "metadata": {},
   "outputs": [],
   "source": [
    "df = spark.read.csv('learn_spark/wc2018-players.csv', header = True, inferSchema=True)"
   ]
  },
  {
   "cell_type": "code",
   "execution_count": 6,
   "id": "d18dfe7a",
   "metadata": {},
   "outputs": [
    {
     "name": "stdout",
     "output_type": "stream",
     "text": [
      "+---------+---+----+------------------+----------+----------+--------------------+------+------+\n",
      "|     Team|  #|Pos.| FIFA Popular Name|Birth Date|Shirt Name|                Club|Height|Weight|\n",
      "+---------+---+----+------------------+----------+----------+--------------------+------+------+\n",
      "|Argentina|  3|  DF|TAGLIAFICO Nicolas|31.08.1992|TAGLIAFICO|      AFC Ajax (NED)|   169|    65|\n",
      "|Argentina| 22|  MF|    PAVON Cristian|21.01.1996|     PAVÓN|CA Boca Juniors (...|   169|    65|\n",
      "|Argentina| 15|  MF|    LANZINI Manuel|15.02.1993|   LANZINI|West Ham United F...|   167|    66|\n",
      "+---------+---+----+------------------+----------+----------+--------------------+------+------+\n",
      "only showing top 3 rows\n",
      "\n"
     ]
    }
   ],
   "source": [
    "df.show(3)"
   ]
  },
  {
   "cell_type": "markdown",
   "id": "9b355b04",
   "metadata": {},
   "source": [
    "### Verify  Schema"
   ]
  },
  {
   "cell_type": "code",
   "execution_count": 7,
   "id": "cbef85c2",
   "metadata": {},
   "outputs": [
    {
     "name": "stdout",
     "output_type": "stream",
     "text": [
      "root\n",
      " |-- Team: string (nullable = true)\n",
      " |-- #: integer (nullable = true)\n",
      " |-- Pos.: string (nullable = true)\n",
      " |-- FIFA Popular Name: string (nullable = true)\n",
      " |-- Birth Date: string (nullable = true)\n",
      " |-- Shirt Name: string (nullable = true)\n",
      " |-- Club: string (nullable = true)\n",
      " |-- Height: integer (nullable = true)\n",
      " |-- Weight: integer (nullable = true)\n",
      "\n"
     ]
    }
   ],
   "source": [
    "df.printSchema()\n",
    "#Before was String Type"
   ]
  },
  {
   "cell_type": "markdown",
   "id": "c60556eb",
   "metadata": {},
   "source": [
    "### Rename columns"
   ]
  },
  {
   "cell_type": "code",
   "execution_count": 8,
   "id": "cbfdff0a",
   "metadata": {},
   "outputs": [],
   "source": [
    "df = df.withColumnRenamed('Pos.', 'Position')\n",
    "df = df.withColumnRenamed('#', 'Number')"
   ]
  },
  {
   "cell_type": "markdown",
   "id": "eaa4f206",
   "metadata": {},
   "source": [
    "df.show(2)"
   ]
  },
  {
   "cell_type": "markdown",
   "id": "b0f42c34",
   "metadata": {},
   "source": [
    "### Verify Null values"
   ]
  },
  {
   "cell_type": "code",
   "execution_count": 9,
   "id": "8b308417",
   "metadata": {},
   "outputs": [
    {
     "data": {
      "text/plain": [
       "Team                 0\n",
       "Number               0\n",
       "Position             0\n",
       "FIFA Popular Name    0\n",
       "Birth Date           0\n",
       "Shirt Name           0\n",
       "Club                 0\n",
       "Height               0\n",
       "Weight               0\n",
       "dtype: int64"
      ]
     },
     "execution_count": 9,
     "metadata": {},
     "output_type": "execute_result"
    }
   ],
   "source": [
    "df.toPandas().isna().sum()"
   ]
  },
  {
   "cell_type": "markdown",
   "id": "26006d46",
   "metadata": {},
   "source": [
    "###### Another form to verify Null values in  bigger dataframes"
   ]
  },
  {
   "cell_type": "code",
   "execution_count": 10,
   "id": "35d85816",
   "metadata": {},
   "outputs": [
    {
     "name": "stdout",
     "output_type": "stream",
     "text": [
      "Team 0\n",
      "Number 0\n",
      "Position 0\n",
      "FIFA Popular Name 0\n",
      "Birth Date 0\n",
      "Shirt Name 0\n",
      "Club 0\n",
      "Height 0\n",
      "Weight 0\n"
     ]
    }
   ],
   "source": [
    "for col in df.columns:\n",
    "    print(col, df.filter(df[col].isNull()).count())"
   ]
  },
  {
   "cell_type": "markdown",
   "id": "c87f2056",
   "metadata": {},
   "source": [
    "### Select columns"
   ]
  },
  {
   "cell_type": "code",
   "execution_count": 11,
   "id": "343436f8",
   "metadata": {},
   "outputs": [
    {
     "name": "stdout",
     "output_type": "stream",
     "text": [
      "+--------------------+\n",
      "|                Club|\n",
      "+--------------------+\n",
      "|      AFC Ajax (NED)|\n",
      "|CA Boca Juniors (...|\n",
      "|West Ham United F...|\n",
      "|    SL Benfica (POR)|\n",
      "|  FC Barcelona (ESP)|\n",
      "+--------------------+\n",
      "only showing top 5 rows\n",
      "\n"
     ]
    }
   ],
   "source": [
    "df.select('Club').show(5)"
   ]
  },
  {
   "cell_type": "code",
   "execution_count": 12,
   "id": "a4f4cf95",
   "metadata": {},
   "outputs": [
    {
     "name": "stdout",
     "output_type": "stream",
     "text": [
      "+--------+\n",
      "|Position|\n",
      "+--------+\n",
      "|      DF|\n",
      "|      MF|\n",
      "|      MF|\n",
      "+--------+\n",
      "only showing top 3 rows\n",
      "\n"
     ]
    }
   ],
   "source": [
    "df.select(df['Position']).show(3)"
   ]
  },
  {
   "cell_type": "code",
   "execution_count": 13,
   "id": "85124370",
   "metadata": {},
   "outputs": [
    {
     "name": "stdout",
     "output_type": "stream",
     "text": [
      "+---+\n",
      "|Pos|\n",
      "+---+\n",
      "| DF|\n",
      "| MF|\n",
      "| MF|\n",
      "+---+\n",
      "only showing top 3 rows\n",
      "\n"
     ]
    }
   ],
   "source": [
    "df.select(df['Position'].alias('Pos')).show(3)"
   ]
  },
  {
   "cell_type": "markdown",
   "id": "93a41b33",
   "metadata": {},
   "source": [
    "### Filter DF"
   ]
  },
  {
   "cell_type": "code",
   "execution_count": 14,
   "id": "655f2cfc",
   "metadata": {},
   "outputs": [
    {
     "name": "stdout",
     "output_type": "stream",
     "text": [
      "+------+------+--------+-----------------+----------+-----------+--------------------+------+------+\n",
      "|  Team|Number|Position|FIFA Popular Name|Birth Date| Shirt Name|                Club|Height|Weight|\n",
      "+------+------+--------+-----------------+----------+-----------+--------------------+------+------+\n",
      "|Brazil|    18|      MF|             FRED|05.03.1993|       FRED|FC Shakhtar Donet...|   169|    64|\n",
      "|Brazil|    21|      FW|           TAISON|13.01.1988|     TAISON|FC Shakhtar Donet...|   172|    64|\n",
      "|Brazil|    17|      MF|      FERNANDINHO|04.05.1985|FERNANDINHO|Manchester City F...|   179|    67|\n",
      "|Brazil|    22|      DF|           FAGNER|11.06.1989|     FAGNER|SC Corinthians (BRA)|   168|    67|\n",
      "|Brazil|    10|      FW|           NEYMAR|05.02.1992|  NEYMAR JR|Paris Saint-Germa...|   175|    68|\n",
      "+------+------+--------+-----------------+----------+-----------+--------------------+------+------+\n",
      "only showing top 5 rows\n",
      "\n"
     ]
    }
   ],
   "source": [
    "df.filter('Team = \"Brazil\"').show(5)"
   ]
  },
  {
   "cell_type": "code",
   "execution_count": 15,
   "id": "d56ac584",
   "metadata": {},
   "outputs": [
    {
     "name": "stdout",
     "output_type": "stream",
     "text": [
      "+------+------+--------+-----------------+----------+----------+--------------------+------+------+\n",
      "|  Team|Number|Position|FIFA Popular Name|Birth Date|Shirt Name|                Club|Height|Weight|\n",
      "+------+------+--------+-----------------+----------+----------+--------------------+------+------+\n",
      "|Brazil|    21|      FW|           TAISON|13.01.1988|    TAISON|FC Shakhtar Donet...|   172|    64|\n",
      "+------+------+--------+-----------------+----------+----------+--------------------+------+------+\n",
      "\n"
     ]
    }
   ],
   "source": [
    "df.filter(column('Birth Date') == \"13.01.1988\").show(5)"
   ]
  },
  {
   "cell_type": "markdown",
   "id": "0f9c472d",
   "metadata": {},
   "source": [
    "### Filter DF With 2 or more conditions"
   ]
  },
  {
   "cell_type": "code",
   "execution_count": 16,
   "id": "137c25db",
   "metadata": {},
   "outputs": [
    {
     "name": "stdout",
     "output_type": "stream",
     "text": [
      "+---------+------+--------+------------------+----------+----------+--------------------+------+------+\n",
      "|     Team|Number|Position| FIFA Popular Name|Birth Date|Shirt Name|                Club|Height|Weight|\n",
      "+---------+------+--------+------------------+----------+----------+--------------------+------+------+\n",
      "|Argentina|     4|      DF|  ANSALDI Cristian|20.09.1986|   ANSALDI|     Torino FC (ITA)|   181|    73|\n",
      "|Argentina|     9|      FW|   HIGUAIN Gonzalo|10.12.1987|   HIGUAÍN|   Juventus FC (ITA)|   184|    75|\n",
      "|Argentina|    23|      GK|CABALLERO Wilfredo|28.09.1981| CABALLERO|    Chelsea FC (ENG)|   186|    80|\n",
      "|Argentina|     2|      DF|   MERCADO Gabriel|18.03.1987|   MERCADO|    Sevilla FC (ESP)|   181|    81|\n",
      "|Argentina|    17|      DF|  OTAMENDI Nicolas|12.02.1988|  OTAMENDI|Manchester City F...|   181|    81|\n",
      "+---------+------+--------+------------------+----------+----------+--------------------+------+------+\n",
      "only showing top 5 rows\n",
      "\n"
     ]
    }
   ],
   "source": [
    "df.filter((column('Team') == \"Argentina\") & (column('Height') > 180)).show(5)"
   ]
  },
  {
   "cell_type": "code",
   "execution_count": 17,
   "id": "c6d23314",
   "metadata": {},
   "outputs": [
    {
     "name": "stdout",
     "output_type": "stream",
     "text": [
      "+-------+------+--------+-----------------+----------+----------+--------------------+------+------+\n",
      "|   Team|Number|Position|FIFA Popular Name|Birth Date|Shirt Name|                Club|Height|Weight|\n",
      "+-------+------+--------+-----------------+----------+----------+--------------------+------+------+\n",
      "|Germany|    11|      FW|       REUS Marco|31.05.1989|      REUS|Borussia Dortmund...|   180|    67|\n",
      "|Germany|    18|      DF|   KIMMICH Joshua|08.02.1995|   KIMMICH|FC Bayern München...|   176|    72|\n",
      "|Germany|    19|      MF|   RUDY Sebastian|28.02.1990|      RUDY|FC Bayern München...|   179|    74|\n",
      "+-------+------+--------+-----------------+----------+----------+--------------------+------+------+\n",
      "only showing top 3 rows\n",
      "\n"
     ]
    }
   ],
   "source": [
    "df.filter(column('Team') == \"Germany\").filter('Number > 10').show(3)"
   ]
  },
  {
   "cell_type": "code",
   "execution_count": 18,
   "id": "7abeac1c",
   "metadata": {},
   "outputs": [
    {
     "name": "stdout",
     "output_type": "stream",
     "text": [
      "+---------+------+--------+-----------------+----------+----------+--------------------+------+------+\n",
      "|     Team|Number|Position|FIFA Popular Name|Birth Date|Shirt Name|                Club|Height|Weight|\n",
      "+---------+------+--------+-----------------+----------+----------+--------------------+------+------+\n",
      "|Australia|    18|      GK|    VUKOVIC Danny|27.03.1985|   VUKOVIC|      KRC Genk (BEL)|   187|    94|\n",
      "|  Belgium|     1|      GK| COURTOIS Thibaut|11.05.1992|  COURTOIS|    Chelsea FC (ENG)|   199|    91|\n",
      "|  Belgium|     9|      FW|    LUKAKU Romelu|13.05.1993| R. LUKAKU|Manchester United...|   190|    94|\n",
      "|   Brazil|    10|      FW|           NEYMAR|05.02.1992| NEYMAR JR|Paris Saint-Germa...|   175|    68|\n",
      "|   Brazil|     1|      GK|          ALISSON|02.10.1992| A. BECKER|       AS Roma (ITA)|   193|    91|\n",
      "+---------+------+--------+-----------------+----------+----------+--------------------+------+------+\n",
      "only showing top 5 rows\n",
      "\n"
     ]
    }
   ],
   "source": [
    "df.filter((column('Shirt Name') == 'NEYMAR JR') | (column('Weight') > 90)).show(5)"
   ]
  },
  {
   "cell_type": "code",
   "execution_count": 19,
   "id": "f3b473c3",
   "metadata": {},
   "outputs": [
    {
     "name": "stdout",
     "output_type": "stream",
     "text": [
      "+---------+------+--------+-----------------+----------+----------+--------------------+------+------+\n",
      "|     Team|Number|Position|FIFA Popular Name|Birth Date|Shirt Name|                Club|Height|Weight|\n",
      "+---------+------+--------+-----------------+----------+----------+--------------------+------+------+\n",
      "|Argentina|    10|      FW|     MESSI Lionel|24.06.1987|     MESSI|  FC Barcelona (ESP)|   170|    72|\n",
      "|Australia|    10|      FW|     KRUSE Robbie|05.10.1988|     KRUSE|    VfL Bochum (GER)|   180|    66|\n",
      "|  Belgium|    10|      FW|      HAZARD Eden|07.01.1991| E. HAZARD|    Chelsea FC (ENG)|   173|    74|\n",
      "|   Brazil|    10|      FW|           NEYMAR|05.02.1992| NEYMAR JR|Paris Saint-Germa...|   175|    68|\n",
      "| Colombia|    10|      MF|  RODRIGUEZ James|12.07.1991|     JAMES|FC Bayern München...|   180|    75|\n",
      "+---------+------+--------+-----------------+----------+----------+--------------------+------+------+\n",
      "only showing top 5 rows\n",
      "\n"
     ]
    }
   ],
   "source": [
    "df.filter(((column('Shirt Name') == 'NEYMAR JR') | (column('Weight') > 50)) & ((column('Number') == 10))).show(5)"
   ]
  },
  {
   "cell_type": "markdown",
   "id": "bfb508af",
   "metadata": {},
   "source": [
    "### Create New Columns"
   ]
  },
  {
   "cell_type": "markdown",
   "id": "d10a5818",
   "metadata": {},
   "source": [
    "###### Using lit"
   ]
  },
  {
   "cell_type": "code",
   "execution_count": 20,
   "id": "b9c12bcd",
   "metadata": {},
   "outputs": [
    {
     "name": "stdout",
     "output_type": "stream",
     "text": [
      "+---------+------+--------+------------------+----------+----------+--------------------+------+------+-----------+\n",
      "|     Team|Number|Position| FIFA Popular Name|Birth Date|Shirt Name|                Club|Height|Weight|coluna_nova|\n",
      "+---------+------+--------+------------------+----------+----------+--------------------+------+------+-----------+\n",
      "|Argentina|     3|      DF|TAGLIAFICO Nicolas|31.08.1992|TAGLIAFICO|      AFC Ajax (NED)|   169|    65|        104|\n",
      "|Argentina|    22|      MF|    PAVON Cristian|21.01.1996|     PAVÓN|CA Boca Juniors (...|   169|    65|        104|\n",
      "|Argentina|    15|      MF|    LANZINI Manuel|15.02.1993|   LANZINI|West Ham United F...|   167|    66|        101|\n",
      "|Argentina|    18|      DF|    SALVIO Eduardo|13.07.1990|    SALVIO|    SL Benfica (POR)|   167|    69|         98|\n",
      "|Argentina|    10|      FW|      MESSI Lionel|24.06.1987|     MESSI|  FC Barcelona (ESP)|   170|    72|         98|\n",
      "+---------+------+--------+------------------+----------+----------+--------------------+------+------+-----------+\n",
      "only showing top 5 rows\n",
      "\n"
     ]
    }
   ],
   "source": [
    "df.withColumn('coluna_nova', lit(column('Height') - column('Weight'))).show(5)"
   ]
  },
  {
   "cell_type": "markdown",
   "id": "d7da5e3d",
   "metadata": {},
   "source": [
    "###### Using Substring"
   ]
  },
  {
   "cell_type": "code",
   "execution_count": 21,
   "id": "998d2db8",
   "metadata": {},
   "outputs": [],
   "source": [
    "df = df.withColumn('Ano', substring('Birth Date', -4, 4))"
   ]
  },
  {
   "cell_type": "code",
   "execution_count": 22,
   "id": "06904f88",
   "metadata": {},
   "outputs": [
    {
     "name": "stdout",
     "output_type": "stream",
     "text": [
      "root\n",
      " |-- Team: string (nullable = true)\n",
      " |-- Number: integer (nullable = true)\n",
      " |-- Position: string (nullable = true)\n",
      " |-- FIFA Popular Name: string (nullable = true)\n",
      " |-- Birth Date: string (nullable = true)\n",
      " |-- Shirt Name: string (nullable = true)\n",
      " |-- Club: string (nullable = true)\n",
      " |-- Height: integer (nullable = true)\n",
      " |-- Weight: integer (nullable = true)\n",
      " |-- Ano: string (nullable = true)\n",
      "\n"
     ]
    }
   ],
   "source": [
    "df.printSchema()"
   ]
  },
  {
   "cell_type": "markdown",
   "id": "8cd5d6b5",
   "metadata": {},
   "source": [
    "###### Conditional Column"
   ]
  },
  {
   "cell_type": "code",
   "execution_count": 23,
   "id": "c72b285b",
   "metadata": {},
   "outputs": [
    {
     "name": "stdout",
     "output_type": "stream",
     "text": [
      "+---------+------+--------+------------------+----------+----------+--------------------+------+------+----+--------------+\n",
      "|     Team|Number|Position| FIFA Popular Name|Birth Date|Shirt Name|                Club|Height|Weight| Ano|        concat|\n",
      "+---------+------+--------+------------------+----------+----------+--------------------+------+------+----+--------------+\n",
      "|Argentina|     3|      DF|TAGLIAFICO Nicolas|31.08.1992|TAGLIAFICO|      AFC Ajax (NED)|   169|    65|1992| Argentina - 3|\n",
      "|Argentina|    22|      MF|    PAVON Cristian|21.01.1996|     PAVÓN|CA Boca Juniors (...|   169|    65|1996|Argentina - 22|\n",
      "|Argentina|    15|      MF|    LANZINI Manuel|15.02.1993|   LANZINI|West Ham United F...|   167|    66|1993|Argentina - 15|\n",
      "|Argentina|    18|      DF|    SALVIO Eduardo|13.07.1990|    SALVIO|    SL Benfica (POR)|   167|    69|1990|Argentina - 18|\n",
      "|Argentina|    10|      FW|      MESSI Lionel|24.06.1987|     MESSI|  FC Barcelona (ESP)|   170|    72|1987|Argentina - 10|\n",
      "+---------+------+--------+------------------+----------+----------+--------------------+------+------+----+--------------+\n",
      "only showing top 5 rows\n",
      "\n"
     ]
    }
   ],
   "source": [
    "df.withColumn('concat', concat_ws(' - ',column('Team'), column('Number'))).show(5)"
   ]
  },
  {
   "cell_type": "markdown",
   "id": "28282b61",
   "metadata": {},
   "source": [
    "###### Change type column"
   ]
  },
  {
   "cell_type": "code",
   "execution_count": 24,
   "id": "80502941",
   "metadata": {},
   "outputs": [],
   "source": [
    "df = df.withColumn('Ano', column('Ano').cast(IntegerType()))\n",
    "df.printSchema()"
   ]
  },
  {
   "cell_type": "code",
   "execution_count": 42,
   "id": "716d5229",
   "metadata": {},
   "outputs": [],
   "source": [
    "#Put the birth date on the format YYYY-mm-dd\n",
    "day = udf(lambda date: date.split('.')[0])\n",
    "month = udf(lambda date: date.split('.')[1])\n",
    "year = udf(lambda date: date.split('.')[2])"
   ]
  },
  {
   "cell_type": "code",
   "execution_count": 47,
   "id": "a8d3b22d",
   "metadata": {},
   "outputs": [
    {
     "name": "stdout",
     "output_type": "stream",
     "text": [
      "root\n",
      " |-- Team: string (nullable = true)\n",
      " |-- Number: integer (nullable = true)\n",
      " |-- Position: string (nullable = true)\n",
      " |-- FIFA Popular Name: string (nullable = true)\n",
      " |-- Birth Date: date (nullable = true)\n",
      " |-- Shirt Name: string (nullable = true)\n",
      " |-- Club: string (nullable = true)\n",
      " |-- Height: integer (nullable = true)\n",
      " |-- Weight: integer (nullable = true)\n",
      " |-- Ano: integer (nullable = true)\n",
      "\n"
     ]
    }
   ],
   "source": [
    "df = df.withColumn('Birth Date', concat_ws('-',year('Birth Date'),month('Birth Date'),day('Birth Date')))\n",
    "df = df.withColumn('Birth Date', column('Birth Date').cast(DateType()))\n",
    "df.printSchema()"
   ]
  },
  {
   "cell_type": "code",
   "execution_count": null,
   "id": "182e814d",
   "metadata": {},
   "outputs": [],
   "source": []
  }
 ],
 "metadata": {
  "kernelspec": {
   "display_name": "Python 3 (ipykernel)",
   "language": "python",
   "name": "python3"
  },
  "language_info": {
   "codemirror_mode": {
    "name": "ipython",
    "version": 3
   },
   "file_extension": ".py",
   "mimetype": "text/x-python",
   "name": "python",
   "nbconvert_exporter": "python",
   "pygments_lexer": "ipython3",
   "version": "3.10.1"
  }
 },
 "nbformat": 4,
 "nbformat_minor": 5
}
