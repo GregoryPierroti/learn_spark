{
 "cells": [
  {
   "cell_type": "markdown",
   "id": "e072587c",
   "metadata": {},
   "source": [
    "# Apply the windows functions in Pyspark"
   ]
  },
  {
   "cell_type": "code",
   "execution_count": 2,
   "id": "6c011394",
   "metadata": {},
   "outputs": [],
   "source": [
    "import os, sys\n",
    "from pyspark.sql import SparkSession\n",
    "from pyspark.sql.functions import *\n",
    "from pyspark.sql.types import *\n",
    "from pyspark.sql.window import Window"
   ]
  },
  {
   "cell_type": "markdown",
   "id": "14130fe6",
   "metadata": {},
   "source": [
    "### Create a Spark Sessions"
   ]
  },
  {
   "cell_type": "code",
   "execution_count": 3,
   "id": "728574ff",
   "metadata": {},
   "outputs": [],
   "source": [
    "os.environ['PYSPARK_PYTHON'] = sys.executable\n",
    "os.environ['PYSPARK_DRIVER_PYTHON'] = sys.executable\n",
    "spark = SparkSession.builder.getOrCreate()"
   ]
  },
  {
   "cell_type": "markdown",
   "id": "901005e2",
   "metadata": {},
   "source": [
    "### Create the dataframe with the same file"
   ]
  },
  {
   "cell_type": "code",
   "execution_count": 4,
   "id": "07c47bb6",
   "metadata": {},
   "outputs": [],
   "source": [
    "df = spark.read.csv('C:/Users/Gregory Toledo/learn_spark/wc2018-players.csv', header = True, inferSchema=True)"
   ]
  },
  {
   "cell_type": "markdown",
   "id": "a0b32974",
   "metadata": {},
   "source": [
    "### Applying the most important changes equal than first notebook for use in the window functions correctly"
   ]
  },
  {
   "cell_type": "code",
   "execution_count": 5,
   "id": "550ff11c",
   "metadata": {},
   "outputs": [],
   "source": [
    "df = df.withColumnRenamed('Pos.', 'Position')\n",
    "df = df.withColumnRenamed('#', 'Number')\n",
    "df = df.withColumn('Year', substring('Birth Date', -4, 4))\n",
    "df = df.withColumn('Year', column('Year').cast(IntegerType()))\n",
    "\n",
    "day = udf(lambda date: date.split('.')[0])\n",
    "month = udf(lambda date: date.split('.')[1])\n",
    "year = udf(lambda date: date.split('.')[2])\n",
    "\n",
    "df = df.withColumn('Birth Date', concat_ws('-',year('Birth Date'),month('Birth Date'),day('Birth Date')))\n",
    "df = df.withColumn('Birth Date', column('Birth Date').cast(DateType()))"
   ]
  },
  {
   "cell_type": "code",
   "execution_count": 6,
   "id": "58d5eb12",
   "metadata": {},
   "outputs": [
    {
     "name": "stdout",
     "output_type": "stream",
     "text": [
      "+---------+------+--------+------------------+----------+----------+--------------------+------+------+----+\n",
      "|     Team|Number|Position| FIFA Popular Name|Birth Date|Shirt Name|                Club|Height|Weight|Year|\n",
      "+---------+------+--------+------------------+----------+----------+--------------------+------+------+----+\n",
      "|Argentina|     3|      DF|TAGLIAFICO Nicolas|1992-08-31|TAGLIAFICO|      AFC Ajax (NED)|   169|    65|1992|\n",
      "|Argentina|    22|      MF|    PAVON Cristian|1996-01-21|     PAVÓN|CA Boca Juniors (...|   169|    65|1996|\n",
      "|Argentina|    15|      MF|    LANZINI Manuel|1993-02-15|   LANZINI|West Ham United F...|   167|    66|1993|\n",
      "|Argentina|    18|      DF|    SALVIO Eduardo|1990-07-13|    SALVIO|    SL Benfica (POR)|   167|    69|1990|\n",
      "|Argentina|    10|      FW|      MESSI Lionel|1987-06-24|     MESSI|  FC Barcelona (ESP)|   170|    72|1987|\n",
      "+---------+------+--------+------------------+----------+----------+--------------------+------+------+----+\n",
      "only showing top 5 rows\n",
      "\n"
     ]
    }
   ],
   "source": [
    "df.show(5)"
   ]
  },
  {
   "cell_type": "markdown",
   "id": "83f7b1ae",
   "metadata": {},
   "source": [
    "### Create Backup"
   ]
  },
  {
   "cell_type": "code",
   "execution_count": 7,
   "id": "14133afe",
   "metadata": {},
   "outputs": [],
   "source": [
    " df2 = df\n"
   ]
  },
  {
   "cell_type": "markdown",
   "id": "5f68b83b",
   "metadata": {},
   "source": [
    " ### Drop Columns"
   ]
  },
  {
   "cell_type": "code",
   "execution_count": 8,
   "id": "46182a85",
   "metadata": {},
   "outputs": [],
   "source": [
    "#df = df.drop('Birth Date')"
   ]
  },
  {
   "cell_type": "markdown",
   "id": "b1471eca",
   "metadata": {},
   "source": [
    "###### Window Ranking functions:  \n",
    "-> Window Function 1: line numbers - row_number()  \n",
    "-> Window Function 2: Ranking 1 - rank()  \n",
    "-> Window Function 3: Ranking 2 - dense_rank()  \n",
    "-> Window Function 4: Percent ranking - percent_rank()  \n",
    "-> Window Function 5: division in 'n' parts - ntile()  "
   ]
  },
  {
   "cell_type": "markdown",
   "id": "0d1a59ba",
   "metadata": {},
   "source": [
    "### Window Function 1: line numbers - row_number() "
   ]
  },
  {
   "cell_type": "code",
   "execution_count": 16,
   "id": "8a2584e3",
   "metadata": {},
   "outputs": [
    {
     "name": "stdout",
     "output_type": "stream",
     "text": [
      "+---------+------+--------+------------------+----------+----------+--------------------+------+------+----+----------+\n",
      "|     Team|Number|Position| FIFA Popular Name|Birth Date|Shirt Name|                Club|Height|Weight|Year|number_row|\n",
      "+---------+------+--------+------------------+----------+----------+--------------------+------+------+----+----------+\n",
      "|Argentina|     6|      DF|    FAZIO Federico|1987-03-17|     FAZIO|       AS Roma (ITA)|   199|    85|1987|         1|\n",
      "|Argentina|     1|      GK|     GUZMAN Nahuel|1986-02-10|    GUZMÁN|   Tigres UANL (MEX)|   192|    90|1986|         2|\n",
      "|Argentina|    16|      DF|       ROJO Marcos|1990-03-20|      ROJO|Manchester United...|   189|    82|1990|         3|\n",
      "|Argentina|    12|      GK|     ARMANI Franco|1986-10-16|    ARMANI|CA River Plate (ARG)|   189|    85|1986|         4|\n",
      "|Argentina|    23|      GK|CABALLERO Wilfredo|1981-09-28| CABALLERO|    Chelsea FC (ENG)|   186|    80|1981|         5|\n",
      "+---------+------+--------+------------------+----------+----------+--------------------+------+------+----+----------+\n",
      "only showing top 5 rows\n",
      "\n"
     ]
    }
   ],
   "source": [
    "number_row = Window.partitionBy('Team').orderBy(desc('Height'))\n",
    "\n",
    "df.withColumn('number_row', row_number().over(number_row)).show(5)"
   ]
  },
  {
   "cell_type": "markdown",
   "id": "1268fdfa",
   "metadata": {},
   "source": [
    "### Window Function 2: Ranking 1 - rank()"
   ]
  },
  {
   "cell_type": "code",
   "execution_count": 17,
   "id": "5b38b64e",
   "metadata": {},
   "outputs": [
    {
     "name": "stdout",
     "output_type": "stream",
     "text": [
      "+---------+------+--------+------------------+----------+----------+--------------------+------+------+----+-----+\n",
      "|     Team|Number|Position| FIFA Popular Name|Birth Date|Shirt Name|                Club|Height|Weight|Year|Rank1|\n",
      "+---------+------+--------+------------------+----------+----------+--------------------+------+------+----+-----+\n",
      "|Argentina|     6|      DF|    FAZIO Federico|1987-03-17|     FAZIO|       AS Roma (ITA)|   199|    85|1987|    1|\n",
      "|Argentina|     1|      GK|     GUZMAN Nahuel|1986-02-10|    GUZMÁN|   Tigres UANL (MEX)|   192|    90|1986|    2|\n",
      "|Argentina|    16|      DF|       ROJO Marcos|1990-03-20|      ROJO|Manchester United...|   189|    82|1990|    3|\n",
      "|Argentina|    12|      GK|     ARMANI Franco|1986-10-16|    ARMANI|CA River Plate (ARG)|   189|    85|1986|    3|\n",
      "|Argentina|    23|      GK|CABALLERO Wilfredo|1981-09-28| CABALLERO|    Chelsea FC (ENG)|   186|    80|1981|    5|\n",
      "|Argentina|     9|      FW|   HIGUAIN Gonzalo|1987-12-10|   HIGUAÍN|   Juventus FC (ITA)|   184|    75|1987|    6|\n",
      "|Argentina|     4|      DF|  ANSALDI Cristian|1986-09-20|   ANSALDI|     Torino FC (ITA)|   181|    73|1986|    7|\n",
      "|Argentina|     2|      DF|   MERCADO Gabriel|1987-03-18|   MERCADO|    Sevilla FC (ESP)|   181|    81|1987|    7|\n",
      "|Argentina|    17|      DF|  OTAMENDI Nicolas|1988-02-12|  OTAMENDI|Manchester City F...|   181|    81|1988|    7|\n",
      "|Argentina|    13|      MF|  MEZA Maximiliano|1992-12-15|      MEZA|CA Independiente ...|   180|    76|1992|   10|\n",
      "+---------+------+--------+------------------+----------+----------+--------------------+------+------+----+-----+\n",
      "only showing top 10 rows\n",
      "\n"
     ]
    }
   ],
   "source": [
    "rank1 = Window.partitionBy('Team').orderBy(desc('Height'))\n",
    "df.withColumn('Rank1', rank().over(rank1)).show(10)"
   ]
  },
  {
   "cell_type": "markdown",
   "id": "67f68120",
   "metadata": {},
   "source": [
    "### Window Function 3: Ranking 2 - dense_rank()"
   ]
  },
  {
   "cell_type": "code",
   "execution_count": 22,
   "id": "00b87831",
   "metadata": {},
   "outputs": [
    {
     "name": "stdout",
     "output_type": "stream",
     "text": [
      "+---------+------+--------+------------------+----------+----------+--------------------+------+------+----+-----+\n",
      "|     Team|Number|Position| FIFA Popular Name|Birth Date|Shirt Name|                Club|Height|Weight|Year|Rank2|\n",
      "+---------+------+--------+------------------+----------+----------+--------------------+------+------+----+-----+\n",
      "|Argentina|     6|      DF|    FAZIO Federico|1987-03-17|     FAZIO|       AS Roma (ITA)|   199|    85|1987|    1|\n",
      "|Argentina|     1|      GK|     GUZMAN Nahuel|1986-02-10|    GUZMÁN|   Tigres UANL (MEX)|   192|    90|1986|    2|\n",
      "|Argentina|    16|      DF|       ROJO Marcos|1990-03-20|      ROJO|Manchester United...|   189|    82|1990|    3|\n",
      "|Argentina|    12|      GK|     ARMANI Franco|1986-10-16|    ARMANI|CA River Plate (ARG)|   189|    85|1986|    3|\n",
      "|Argentina|    23|      GK|CABALLERO Wilfredo|1981-09-28| CABALLERO|    Chelsea FC (ENG)|   186|    80|1981|    4|\n",
      "|Argentina|     9|      FW|   HIGUAIN Gonzalo|1987-12-10|   HIGUAÍN|   Juventus FC (ITA)|   184|    75|1987|    5|\n",
      "|Argentina|     4|      DF|  ANSALDI Cristian|1986-09-20|   ANSALDI|     Torino FC (ITA)|   181|    73|1986|    6|\n",
      "|Argentina|     2|      DF|   MERCADO Gabriel|1987-03-18|   MERCADO|    Sevilla FC (ESP)|   181|    81|1987|    6|\n",
      "|Argentina|    17|      DF|  OTAMENDI Nicolas|1988-02-12|  OTAMENDI|Manchester City F...|   181|    81|1988|    6|\n",
      "|Argentina|    13|      MF|  MEZA Maximiliano|1992-12-15|      MEZA|CA Independiente ...|   180|    76|1992|    7|\n",
      "+---------+------+--------+------------------+----------+----------+--------------------+------+------+----+-----+\n",
      "only showing top 10 rows\n",
      "\n"
     ]
    }
   ],
   "source": [
    "rank2 = Window.partitionBy('Team').orderBy(desc('Height'))\n",
    "df.withColumn('Rank2', dense_rank().over(rank2)).show(10)"
   ]
  },
  {
   "cell_type": "markdown",
   "id": "069d697d",
   "metadata": {},
   "source": [
    "### Window Function 4: Percent ranking - percent_rank()"
   ]
  },
  {
   "cell_type": "code",
   "execution_count": 25,
   "id": "74159bc6",
   "metadata": {},
   "outputs": [
    {
     "name": "stdout",
     "output_type": "stream",
     "text": [
      "+---------+------+--------+------------------+----------+----------+--------------------+------+------+----+--------------------+\n",
      "|     Team|Number|Position| FIFA Popular Name|Birth Date|Shirt Name|                Club|Height|Weight|Year|            per_rank|\n",
      "+---------+------+--------+------------------+----------+----------+--------------------+------+------+----+--------------------+\n",
      "|Argentina|     6|      DF|    FAZIO Federico|1987-03-17|     FAZIO|       AS Roma (ITA)|   199|    85|1987|                 0.0|\n",
      "|Argentina|     1|      GK|     GUZMAN Nahuel|1986-02-10|    GUZMÁN|   Tigres UANL (MEX)|   192|    90|1986|0.045454545454545456|\n",
      "|Argentina|    16|      DF|       ROJO Marcos|1990-03-20|      ROJO|Manchester United...|   189|    82|1990| 0.09090909090909091|\n",
      "|Argentina|    12|      GK|     ARMANI Franco|1986-10-16|    ARMANI|CA River Plate (ARG)|   189|    85|1986| 0.09090909090909091|\n",
      "|Argentina|    23|      GK|CABALLERO Wilfredo|1981-09-28| CABALLERO|    Chelsea FC (ENG)|   186|    80|1981| 0.18181818181818182|\n",
      "+---------+------+--------+------------------+----------+----------+--------------------+------+------+----+--------------------+\n",
      "only showing top 5 rows\n",
      "\n"
     ]
    }
   ],
   "source": [
    "per_rank = Window.partitionBy('Team').orderBy(desc('Height'))\n",
    "df.withColumn('per_rank', percent_rank().over(per_rank)).show(5)"
   ]
  },
  {
   "cell_type": "markdown",
   "id": "837ab091",
   "metadata": {},
   "source": [
    "### Window Function 5: division in 'n' parts - ntile()"
   ]
  },
  {
   "cell_type": "code",
   "execution_count": 27,
   "id": "d77aae4a",
   "metadata": {},
   "outputs": [
    {
     "name": "stdout",
     "output_type": "stream",
     "text": [
      "+---------+------+--------+------------------+----------+----------+--------------------+------+------+----+-----+\n",
      "|     Team|Number|Position| FIFA Popular Name|Birth Date|Shirt Name|                Club|Height|Weight|Year|parts|\n",
      "+---------+------+--------+------------------+----------+----------+--------------------+------+------+----+-----+\n",
      "|Argentina|     6|      DF|    FAZIO Federico|1987-03-17|     FAZIO|       AS Roma (ITA)|   199|    85|1987|    1|\n",
      "|Argentina|     1|      GK|     GUZMAN Nahuel|1986-02-10|    GUZMÁN|   Tigres UANL (MEX)|   192|    90|1986|    1|\n",
      "|Argentina|    16|      DF|       ROJO Marcos|1990-03-20|      ROJO|Manchester United...|   189|    82|1990|    1|\n",
      "|Argentina|    12|      GK|     ARMANI Franco|1986-10-16|    ARMANI|CA River Plate (ARG)|   189|    85|1986|    1|\n",
      "|Argentina|    23|      GK|CABALLERO Wilfredo|1981-09-28| CABALLERO|    Chelsea FC (ENG)|   186|    80|1981|    1|\n",
      "|Argentina|     9|      FW|   HIGUAIN Gonzalo|1987-12-10|   HIGUAÍN|   Juventus FC (ITA)|   184|    75|1987|    2|\n",
      "|Argentina|     4|      DF|  ANSALDI Cristian|1986-09-20|   ANSALDI|     Torino FC (ITA)|   181|    73|1986|    2|\n",
      "|Argentina|     2|      DF|   MERCADO Gabriel|1987-03-18|   MERCADO|    Sevilla FC (ESP)|   181|    81|1987|    2|\n",
      "|Argentina|    17|      DF|  OTAMENDI Nicolas|1988-02-12|  OTAMENDI|Manchester City F...|   181|    81|1988|    2|\n",
      "|Argentina|    13|      MF|  MEZA Maximiliano|1992-12-15|      MEZA|CA Independiente ...|   180|    76|1992|    2|\n",
      "+---------+------+--------+------------------+----------+----------+--------------------+------+------+----+-----+\n",
      "only showing top 10 rows\n",
      "\n"
     ]
    }
   ],
   "source": [
    "parts = Window.partitionBy('Team').orderBy(desc('Height'))\n",
    "df.withColumn('parts', ntile(5).over(parts)).show(10)"
   ]
  },
  {
   "cell_type": "markdown",
   "id": "721d4008",
   "metadata": {},
   "source": [
    "## Window Anlytic Functions"
   ]
  },
  {
   "cell_type": "markdown",
   "id": "008d16ce",
   "metadata": {},
   "source": [
    "### Window Function 6  - LAG - lag()"
   ]
  },
  {
   "cell_type": "code",
   "execution_count": 29,
   "id": "7cb267ad",
   "metadata": {},
   "outputs": [
    {
     "name": "stdout",
     "output_type": "stream",
     "text": [
      "+---------+------+--------+------------------+----------+----------+--------------------+------+------+----+----+\n",
      "|     Team|Number|Position| FIFA Popular Name|Birth Date|Shirt Name|                Club|Height|Weight|Year| LAG|\n",
      "+---------+------+--------+------------------+----------+----------+--------------------+------+------+----+----+\n",
      "|Argentina|     6|      DF|    FAZIO Federico|1987-03-17|     FAZIO|       AS Roma (ITA)|   199|    85|1987|null|\n",
      "|Argentina|     1|      GK|     GUZMAN Nahuel|1986-02-10|    GUZMÁN|   Tigres UANL (MEX)|   192|    90|1986|  85|\n",
      "|Argentina|    16|      DF|       ROJO Marcos|1990-03-20|      ROJO|Manchester United...|   189|    82|1990|  90|\n",
      "|Argentina|    12|      GK|     ARMANI Franco|1986-10-16|    ARMANI|CA River Plate (ARG)|   189|    85|1986|  82|\n",
      "|Argentina|    23|      GK|CABALLERO Wilfredo|1981-09-28| CABALLERO|    Chelsea FC (ENG)|   186|    80|1981|  85|\n",
      "|Argentina|     9|      FW|   HIGUAIN Gonzalo|1987-12-10|   HIGUAÍN|   Juventus FC (ITA)|   184|    75|1987|  80|\n",
      "|Argentina|     4|      DF|  ANSALDI Cristian|1986-09-20|   ANSALDI|     Torino FC (ITA)|   181|    73|1986|  75|\n",
      "|Argentina|     2|      DF|   MERCADO Gabriel|1987-03-18|   MERCADO|    Sevilla FC (ESP)|   181|    81|1987|  73|\n",
      "|Argentina|    17|      DF|  OTAMENDI Nicolas|1988-02-12|  OTAMENDI|Manchester City F...|   181|    81|1988|  81|\n",
      "|Argentina|    13|      MF|  MEZA Maximiliano|1992-12-15|      MEZA|CA Independiente ...|   180|    76|1992|  81|\n",
      "+---------+------+--------+------------------+----------+----------+--------------------+------+------+----+----+\n",
      "only showing top 10 rows\n",
      "\n"
     ]
    }
   ],
   "source": [
    "lag_function = Window.partitionBy('Team').orderBy(desc('Height'))\n",
    "df.withColumn('LAG', lag('Weight').over(lag_function)).show(10)"
   ]
  },
  {
   "cell_type": "markdown",
   "id": "9747f206",
   "metadata": {},
   "source": [
    "### Window Function 7 - LEAD - lead()"
   ]
  },
  {
   "cell_type": "code",
   "execution_count": 31,
   "id": "63ab98b5",
   "metadata": {},
   "outputs": [
    {
     "name": "stdout",
     "output_type": "stream",
     "text": [
      "+---------+------+--------+------------------+----------+----------+--------------------+------+------+----+----+\n",
      "|     Team|Number|Position| FIFA Popular Name|Birth Date|Shirt Name|                Club|Height|Weight|Year|LEAD|\n",
      "+---------+------+--------+------------------+----------+----------+--------------------+------+------+----+----+\n",
      "|Argentina|     6|      DF|    FAZIO Federico|1987-03-17|     FAZIO|       AS Roma (ITA)|   199|    85|1987|  90|\n",
      "|Argentina|     1|      GK|     GUZMAN Nahuel|1986-02-10|    GUZMÁN|   Tigres UANL (MEX)|   192|    90|1986|  82|\n",
      "|Argentina|    16|      DF|       ROJO Marcos|1990-03-20|      ROJO|Manchester United...|   189|    82|1990|  85|\n",
      "|Argentina|    12|      GK|     ARMANI Franco|1986-10-16|    ARMANI|CA River Plate (ARG)|   189|    85|1986|  80|\n",
      "|Argentina|    23|      GK|CABALLERO Wilfredo|1981-09-28| CABALLERO|    Chelsea FC (ENG)|   186|    80|1981|  75|\n",
      "|Argentina|     9|      FW|   HIGUAIN Gonzalo|1987-12-10|   HIGUAÍN|   Juventus FC (ITA)|   184|    75|1987|  73|\n",
      "|Argentina|     4|      DF|  ANSALDI Cristian|1986-09-20|   ANSALDI|     Torino FC (ITA)|   181|    73|1986|  81|\n",
      "|Argentina|     2|      DF|   MERCADO Gabriel|1987-03-18|   MERCADO|    Sevilla FC (ESP)|   181|    81|1987|  81|\n",
      "|Argentina|    17|      DF|  OTAMENDI Nicolas|1988-02-12|  OTAMENDI|Manchester City F...|   181|    81|1988|  76|\n",
      "|Argentina|    13|      MF|  MEZA Maximiliano|1992-12-15|      MEZA|CA Independiente ...|   180|    76|1992|  75|\n",
      "+---------+------+--------+------------------+----------+----------+--------------------+------+------+----+----+\n",
      "only showing top 10 rows\n",
      "\n"
     ]
    }
   ],
   "source": [
    "lead_function = Window.partitionBy('Team').orderBy(desc('Height'))\n",
    "df.withColumn('LEAD', lead('Weight').over(lead_function)).show(10)"
   ]
  },
  {
   "cell_type": "markdown",
   "id": "02dd132c",
   "metadata": {},
   "source": [
    "### Agregations"
   ]
  },
  {
   "cell_type": "markdown",
   "id": "8e98f873",
   "metadata": {},
   "source": [
    "#### Group by (first form)"
   ]
  },
  {
   "cell_type": "code",
   "execution_count": 38,
   "id": "cf092458",
   "metadata": {},
   "outputs": [
    {
     "name": "stdout",
     "output_type": "stream",
     "text": [
      "+-------+------------------+\n",
      "|   Team|       avg(Height)|\n",
      "+-------+------------------+\n",
      "| Serbia|186.69565217391303|\n",
      "|Denmark| 186.6086956521739|\n",
      "|Germany| 185.7826086956522|\n",
      "| Sweden| 185.7391304347826|\n",
      "|Iceland|185.52173913043478|\n",
      "+-------+------------------+\n",
      "only showing top 5 rows\n",
      "\n"
     ]
    }
   ],
   "source": [
    "df.groupBy('Team').agg({'Height': 'avg'}).orderBy('avg(Height)', ascending = False).show(5)"
   ]
  },
  {
   "cell_type": "markdown",
   "id": "21e4fddb",
   "metadata": {},
   "source": [
    "#### Group by (second form)"
   ]
  },
  {
   "cell_type": "code",
   "execution_count": 42,
   "id": "f4198b3e",
   "metadata": {},
   "outputs": [
    {
     "name": "stdout",
     "output_type": "stream",
     "text": [
      "+---------+-----------+\n",
      "|     Team|max(Height)|\n",
      "+---------+-----------+\n",
      "|  Croatia|        201|\n",
      "|  Denmark|        200|\n",
      "|  Belgium|        199|\n",
      "|Argentina|        199|\n",
      "|   Sweden|        198|\n",
      "+---------+-----------+\n",
      "only showing top 5 rows\n",
      "\n"
     ]
    }
   ],
   "source": [
    "df.groupBy('Team').agg(max('Height')).orderBy('max(Height)', ascending = False).show(5)"
   ]
  },
  {
   "cell_type": "markdown",
   "id": "858757ba",
   "metadata": {},
   "source": [
    "### Where"
   ]
  },
  {
   "cell_type": "code",
   "execution_count": 45,
   "id": "9c770fcb",
   "metadata": {},
   "outputs": [
    {
     "name": "stdout",
     "output_type": "stream",
     "text": [
      "+------+------+--------+-----------------+----------+-----------+--------------------+------+------+----+\n",
      "|  Team|Number|Position|FIFA Popular Name|Birth Date| Shirt Name|                Club|Height|Weight|Year|\n",
      "+------+------+--------+-----------------+----------+-----------+--------------------+------+------+----+\n",
      "|Brazil|    21|      FW|           TAISON|1988-01-13|     TAISON|FC Shakhtar Donet...|   172|    64|1988|\n",
      "|Brazil|    17|      MF|      FERNANDINHO|1985-05-04|FERNANDINHO|Manchester City F...|   179|    67|1985|\n",
      "|Brazil|     6|      DF|      FILIPE LUIS|1985-08-09|FILIPE LUIS|Atletico Madrid (...|   182|    73|1985|\n",
      "|Brazil|    19|      MF|          WILLIAN|1988-08-09|    WILLIAN|    Chelsea FC (ENG)|   175|    77|1988|\n",
      "|Brazil|     3|      DF|          MIRANDA|1984-09-07|    MIRANDA|FC Internazionale...|   186|    78|1984|\n",
      "+------+------+--------+-----------------+----------+-----------+--------------------+------+------+----+\n",
      "only showing top 5 rows\n",
      "\n"
     ]
    }
   ],
   "source": [
    "df.where('Team = \"Brazil\"').where('Year < 1989 ').show(5)"
   ]
  },
  {
   "cell_type": "code",
   "execution_count": null,
   "id": "c93a3ba8",
   "metadata": {},
   "outputs": [],
   "source": []
  },
  {
   "cell_type": "markdown",
   "id": "007883cc",
   "metadata": {},
   "source": [
    "### Describe"
   ]
  },
  {
   "cell_type": "code",
   "execution_count": null,
   "id": "bf055915",
   "metadata": {},
   "outputs": [],
   "source": []
  },
  {
   "cell_type": "code",
   "execution_count": null,
   "id": "f25a6891",
   "metadata": {},
   "outputs": [],
   "source": []
  },
  {
   "cell_type": "code",
   "execution_count": null,
   "id": "84179aaa",
   "metadata": {},
   "outputs": [],
   "source": []
  }
 ],
 "metadata": {
  "kernelspec": {
   "display_name": "Python 3 (ipykernel)",
   "language": "python",
   "name": "python3"
  },
  "language_info": {
   "codemirror_mode": {
    "name": "ipython",
    "version": 3
   },
   "file_extension": ".py",
   "mimetype": "text/x-python",
   "name": "python",
   "nbconvert_exporter": "python",
   "pygments_lexer": "ipython3",
   "version": "3.10.1"
  }
 },
 "nbformat": 4,
 "nbformat_minor": 5
}
