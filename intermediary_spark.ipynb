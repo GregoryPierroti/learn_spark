{
 "cells": [
  {
   "cell_type": "markdown",
   "id": "c32f17bd",
   "metadata": {},
   "source": [
    "# Apply the union, joins and etc in Pyspark"
   ]
  },
  {
   "cell_type": "code",
   "execution_count": 2,
   "id": "496ea68c",
   "metadata": {},
   "outputs": [],
   "source": [
    "import os, sys\n",
    "from pyspark.sql import SparkSession\n",
    "from pyspark.sql.functions import *\n",
    "from pyspark.sql.types import *\n",
    "from pyspark.sql.window import Window"
   ]
  },
  {
   "cell_type": "markdown",
   "id": "d1efe38b",
   "metadata": {},
   "source": [
    "### Create a Spark Sessions"
   ]
  },
  {
   "cell_type": "code",
   "execution_count": 3,
   "id": "d668a01c",
   "metadata": {},
   "outputs": [],
   "source": [
    "os.environ['PYSPARK_PYTHON'] = sys.executable\n",
    "os.environ['PYSPARK_DRIVER_PYTHON'] = sys.executable\n",
    "spark = SparkSession.builder.getOrCreate()"
   ]
  },
  {
   "cell_type": "markdown",
   "id": "0f1993a9",
   "metadata": {},
   "source": [
    "### Create the dataframe with the same file"
   ]
  },
  {
   "cell_type": "code",
   "execution_count": 4,
   "id": "8b61d5e9",
   "metadata": {},
   "outputs": [],
   "source": [
    "df = spark.read.csv('C:/Users/Gregory Toledo/learn_spark/wc2018-players.csv', header = True, inferSchema=True)"
   ]
  },
  {
   "cell_type": "markdown",
   "id": "e9c7ced6",
   "metadata": {},
   "source": [
    "### Applying the most important changes equal than first notebook for use in the functions correctly"
   ]
  },
  {
   "cell_type": "code",
   "execution_count": 5,
   "id": "fdba8b3f",
   "metadata": {},
   "outputs": [],
   "source": [
    "df = df.withColumnRenamed('Pos.', 'Position')\n",
    "df = df.withColumnRenamed('#', 'Number')\n",
    "df = df.withColumn('Year', substring('Birth Date', -4, 4))\n",
    "df = df.withColumn('Year', column('Year').cast(IntegerType()))\n",
    "\n",
    "day = udf(lambda date: date.split('.')[0])\n",
    "month = udf(lambda date: date.split('.')[1])\n",
    "year = udf(lambda date: date.split('.')[2])\n",
    "\n",
    "df = df.withColumn('Birth Date', concat_ws('-',year('Birth Date'),month('Birth Date'),day('Birth Date')))\n",
    "df = df.withColumn('Birth Date', column('Birth Date').cast(DateType()))"
   ]
  },
  {
   "cell_type": "code",
   "execution_count": 6,
   "id": "043b906d",
   "metadata": {},
   "outputs": [
    {
     "name": "stdout",
     "output_type": "stream",
     "text": [
      "+---------+------+--------+------------------+----------+----------+--------------------+------+------+----+\n",
      "|     Team|Number|Position| FIFA Popular Name|Birth Date|Shirt Name|                Club|Height|Weight|Year|\n",
      "+---------+------+--------+------------------+----------+----------+--------------------+------+------+----+\n",
      "|Argentina|     3|      DF|TAGLIAFICO Nicolas|1992-08-31|TAGLIAFICO|      AFC Ajax (NED)|   169|    65|1992|\n",
      "|Argentina|    22|      MF|    PAVON Cristian|1996-01-21|     PAVÓN|CA Boca Juniors (...|   169|    65|1996|\n",
      "|Argentina|    15|      MF|    LANZINI Manuel|1993-02-15|   LANZINI|West Ham United F...|   167|    66|1993|\n",
      "|Argentina|    18|      DF|    SALVIO Eduardo|1990-07-13|    SALVIO|    SL Benfica (POR)|   167|    69|1990|\n",
      "|Argentina|    10|      FW|      MESSI Lionel|1987-06-24|     MESSI|  FC Barcelona (ESP)|   170|    72|1987|\n",
      "+---------+------+--------+------------------+----------+----------+--------------------+------+------+----+\n",
      "only showing top 5 rows\n",
      "\n"
     ]
    }
   ],
   "source": [
    "df.show(5)"
   ]
  },
  {
   "cell_type": "markdown",
   "id": "11459eba",
   "metadata": {},
   "source": [
    "## Distinct()"
   ]
  },
  {
   "cell_type": "code",
   "execution_count": 7,
   "id": "3174a849",
   "metadata": {},
   "outputs": [
    {
     "name": "stdout",
     "output_type": "stream",
     "text": [
      "+--------------+\n",
      "|          Team|\n",
      "+--------------+\n",
      "|        Russia|\n",
      "|       Senegal|\n",
      "|        Sweden|\n",
      "|       IR Iran|\n",
      "|       Germany|\n",
      "|        France|\n",
      "|     Argentina|\n",
      "|       Belgium|\n",
      "|          Peru|\n",
      "|       Croatia|\n",
      "|       Nigeria|\n",
      "|Korea Republic|\n",
      "|         Spain|\n",
      "|       Denmark|\n",
      "|       Morocco|\n",
      "|        Panama|\n",
      "|       Iceland|\n",
      "|       Uruguay|\n",
      "|        Mexico|\n",
      "|       Tunisia|\n",
      "|  Saudi Arabia|\n",
      "|   Switzerland|\n",
      "|        Brazil|\n",
      "|         Japan|\n",
      "|       England|\n",
      "|        Poland|\n",
      "|      Portugal|\n",
      "|     Australia|\n",
      "|    Costa Rica|\n",
      "|         Egypt|\n",
      "|        Serbia|\n",
      "|      Colombia|\n",
      "+--------------+\n",
      "\n"
     ]
    }
   ],
   "source": [
    "df.select('Team').distinct().show(50)"
   ]
  },
  {
   "cell_type": "markdown",
   "id": "a462f132",
   "metadata": {},
   "source": [
    "## Collect()"
   ]
  },
  {
   "cell_type": "code",
   "execution_count": 8,
   "id": "63aab199",
   "metadata": {},
   "outputs": [],
   "source": [
    "list1 = df.select('Team').distinct().collect()"
   ]
  },
  {
   "cell_type": "code",
   "execution_count": 9,
   "id": "25c34ff2",
   "metadata": {},
   "outputs": [
    {
     "data": {
      "text/plain": [
       "Row(Team='Russia')"
      ]
     },
     "execution_count": 9,
     "metadata": {},
     "output_type": "execute_result"
    }
   ],
   "source": [
    "list1[0]\n",
    "#Row"
   ]
  },
  {
   "cell_type": "code",
   "execution_count": 10,
   "id": "b198c2dc",
   "metadata": {},
   "outputs": [
    {
     "data": {
      "text/plain": [
       "'Russia'"
      ]
     },
     "execution_count": 10,
     "metadata": {},
     "output_type": "execute_result"
    }
   ],
   "source": [
    "list1[0][0]\n",
    "#item"
   ]
  },
  {
   "cell_type": "code",
   "execution_count": 11,
   "id": "95e2f3d7",
   "metadata": {},
   "outputs": [],
   "source": [
    "#List comprehension that take the items on the rows of list1\n",
    "countries = [country[0] for country in list1]"
   ]
  },
  {
   "cell_type": "code",
   "execution_count": 12,
   "id": "69e81e6a",
   "metadata": {},
   "outputs": [
    {
     "name": "stdout",
     "output_type": "stream",
     "text": [
      "['Russia', 'Senegal', 'Sweden', 'IR Iran', 'Germany', 'France', 'Argentina', 'Belgium', 'Peru', 'Croatia', 'Nigeria', 'Korea Republic', 'Spain', 'Denmark', 'Morocco', 'Panama', 'Iceland', 'Uruguay', 'Mexico', 'Tunisia', 'Saudi Arabia', 'Switzerland', 'Brazil', 'Japan', 'England', 'Poland', 'Portugal', 'Australia', 'Costa Rica', 'Egypt', 'Serbia', 'Colombia']\n"
     ]
    }
   ],
   "source": [
    "print(countries)"
   ]
  },
  {
   "cell_type": "markdown",
   "id": "6af96c79",
   "metadata": {},
   "source": [
    "## When() / Otherwise()"
   ]
  },
  {
   "cell_type": "code",
   "execution_count": 13,
   "id": "ad9a9e98",
   "metadata": {
    "scrolled": true
   },
   "outputs": [
    {
     "name": "stdout",
     "output_type": "stream",
     "text": [
      "+---------+------+--------+------------------+----------+----------+--------------------+------+------+----+----------+\n",
      "|     Team|Number|Position| FIFA Popular Name|Birth Date|Shirt Name|                Club|Height|Weight|Year|New_Column|\n",
      "+---------+------+--------+------------------+----------+----------+--------------------+------+------+----+----------+\n",
      "|Argentina|     3|      DF|TAGLIAFICO Nicolas|1992-08-31|TAGLIAFICO|      AFC Ajax (NED)|   169|    65|1992|    Verify|\n",
      "|Argentina|    22|      MF|    PAVON Cristian|1996-01-21|     PAVÓN|CA Boca Juniors (...|   169|    65|1996|    Verify|\n",
      "|Argentina|    15|      MF|    LANZINI Manuel|1993-02-15|   LANZINI|West Ham United F...|   167|    66|1993|    Verify|\n",
      "|Argentina|    18|      DF|    SALVIO Eduardo|1990-07-13|    SALVIO|    SL Benfica (POR)|   167|    69|1990|    Verify|\n",
      "|Argentina|    10|      FW|      MESSI Lionel|1987-06-24|     MESSI|  FC Barcelona (ESP)|   170|    72|1987|    Verify|\n",
      "+---------+------+--------+------------------+----------+----------+--------------------+------+------+----+----------+\n",
      "only showing top 5 rows\n",
      "\n"
     ]
    }
   ],
   "source": [
    "# Similar then if/else\n",
    "\n",
    "df.withColumn('New_Column', when(col('Team') == 'Brazil', 'Brazilian').otherwise('Verify')).show(5)"
   ]
  },
  {
   "cell_type": "code",
   "execution_count": 14,
   "id": "b3f9a462",
   "metadata": {},
   "outputs": [],
   "source": [
    "europe = ['Sweden', 'Germany', 'France', 'Belgium', 'Croatia', 'Spain', 'Denmark', 'Iceland', 'Switzerland', 'England', 'Poland','Portugal','Serbia']\n",
    "asia = ['Russia', 'IR Iran', 'Korea Republic', 'Saudi Arabia', 'Japan']\n",
    "oceania = ['Australia']\n",
    "africa = ['Nigeria' , 'Morocco', 'Senegal', 'Tunisia', 'Egypt']\n",
    "north_america = ['Panama', 'Mexico', 'Costa Rica']\n",
    "south_america = ['Argentina', 'Brazil', 'Uruguay', 'Colombia', 'Peru']"
   ]
  },
  {
   "cell_type": "code",
   "execution_count": 15,
   "id": "271e6435",
   "metadata": {},
   "outputs": [],
   "source": [
    "df = df.withColumn('Continent', when(col('Team').isin(asia), 'Asian')\\\n",
    "              .when(col('Team').isin(oceania), 'oceanic')\\\n",
    "              .when(col('Team').isin(africa), 'African')\\\n",
    "              .when(col('Team').isin(europe), 'european')\\\n",
    "              .when(col('Team').isin(south_america), 'South American')\\\n",
    "              .when(col('Team').isin(north_america), 'North American')\\\n",
    "              .otherwise('Verify'))"
   ]
  },
  {
   "cell_type": "markdown",
   "id": "25bfcf84",
   "metadata": {},
   "source": [
    "## Union()"
   ]
  },
  {
   "cell_type": "markdown",
   "id": "6724e72a",
   "metadata": {},
   "source": [
    "##### This function need to have 2 df's with the same amount of colmuns"
   ]
  },
  {
   "cell_type": "code",
   "execution_count": 16,
   "id": "7a66b1d2",
   "metadata": {},
   "outputs": [],
   "source": [
    "df_south_america = df.where('Continent = \"South American\"')\n",
    "df_north_america = df.where('Continent = \"North American\"')"
   ]
  },
  {
   "cell_type": "code",
   "execution_count": 17,
   "id": "7e8bc79e",
   "metadata": {},
   "outputs": [],
   "source": [
    "df_america = df_south_america.union(df_north_america)"
   ]
  },
  {
   "cell_type": "code",
   "execution_count": 18,
   "id": "60ce2cb0",
   "metadata": {},
   "outputs": [
    {
     "name": "stdout",
     "output_type": "stream",
     "text": [
      "+----------+\n",
      "|      Team|\n",
      "+----------+\n",
      "| Argentina|\n",
      "|      Peru|\n",
      "|   Uruguay|\n",
      "|    Brazil|\n",
      "|  Colombia|\n",
      "|    Panama|\n",
      "|    Mexico|\n",
      "|Costa Rica|\n",
      "+----------+\n",
      "\n"
     ]
    }
   ],
   "source": [
    "df_america.select('Team').distinct().show()"
   ]
  },
  {
   "cell_type": "markdown",
   "id": "2e5fcf03",
   "metadata": {},
   "source": [
    "## Joins"
   ]
  },
  {
   "cell_type": "code",
   "execution_count": 36,
   "id": "1a26bb02",
   "metadata": {},
   "outputs": [],
   "source": [
    "arg = df.where('Team == \"Argentina\"')\n",
    "br = df.where('Team == \"Brazil\"')\n",
    "arg = arg.drop('Club', 'Year', 'Continent', 'Weight','Birth Date')\n",
    "br = br.drop('Club', 'Year', 'Continent', 'Weight','Birth Date')"
   ]
  },
  {
   "cell_type": "markdown",
   "id": "e5cd3b98",
   "metadata": {},
   "source": [
    "#### Simple Join"
   ]
  },
  {
   "cell_type": "code",
   "execution_count": 38,
   "id": "8fcb0f82",
   "metadata": {},
   "outputs": [],
   "source": [
    "newdf = arg.join(br, arg.Number == br.Number)"
   ]
  },
  {
   "cell_type": "code",
   "execution_count": 39,
   "id": "1f6b8fd1",
   "metadata": {},
   "outputs": [
    {
     "name": "stdout",
     "output_type": "stream",
     "text": [
      "+---------+------+--------+------------------+----------+------+------+------+--------+-----------------+-----------+------+\n",
      "|     Team|Number|Position| FIFA Popular Name|Shirt Name|Height|  Team|Number|Position|FIFA Popular Name| Shirt Name|Height|\n",
      "+---------+------+--------+------------------+----------+------+------+------+--------+-----------------+-----------+------+\n",
      "|Argentina|     4|      DF|TAGLIAFICO Nicolas|TAGLIAFICO|   169|Brazil|     4|      DF|    PEDRO GEROMEL|    GEROMEL|   190|\n",
      "|Argentina|    23|      MF|    PAVON Cristian|     PAVÓN|   169|Brazil|    23|      GK|          EDERSON|    EDERSON|   188|\n",
      "|Argentina|    16|      MF|    LANZINI Manuel|   LANZINI|   167|Brazil|    16|      GK|           CASSIO|     CASSIO|   195|\n",
      "|Argentina|    19|      DF|    SALVIO Eduardo|    SALVIO|   167|Brazil|    19|      MF|          WILLIAN|    WILLIAN|   175|\n",
      "|Argentina|    11|      FW|      MESSI Lionel|     MESSI|   170|Brazil|    11|      MF|PHILIPPE COUTINHO|P. COUTINHO|   172|\n",
      "|Argentina|     5|      DF|  ANSALDI Cristian|   ANSALDI|   181|Brazil|     5|      MF|         CASEMIRO|   CASEMIRO|   185|\n",
      "|Argentina|     6|      MF|      BIGLIA Lucas|    BIGLIA|   175|Brazil|     6|      DF|      FILIPE LUIS|FILIPE LUIS|   182|\n",
      "|Argentina|     8|      MF|       BANEGA Ever|    BANEGA|   175|Brazil|     8|      MF|   RENATO AUGUSTO| R. AUGUSTO|   186|\n",
      "|Argentina|    15|      DF| MASCHERANO Javier|MASCHERANO|   174|Brazil|    15|      MF|         PAULINHO|   PAULINHO|   181|\n",
      "|Argentina|    22|      FW|      DYBALA Paulo|    DYBALA|   177|Brazil|    22|      DF|           FAGNER|     FAGNER|   168|\n",
      "|Argentina|    20|      FW|     AGUERO Sergio|    AGÜERO|   172|Brazil|    20|      FW|  ROBERTO FIRMINO|    FIRMINO|   181|\n",
      "|Argentina|    10|      FW|   HIGUAIN Gonzalo|   HIGUAÍN|   184|Brazil|    10|      FW|           NEYMAR|  NEYMAR JR|   175|\n",
      "|Argentina|    12|      MF|    DI MARIA Angel|  DI MARÍA|   178|Brazil|    12|      DF|          MARCELO|    MARCELO|   174|\n",
      "|Argentina|    21|      MF|  LO CELSO Giovani|  LO CELSO|   177|Brazil|    21|      FW|           TAISON|     TAISON|   172|\n",
      "|Argentina|    14|      MF|  MEZA Maximiliano|      MEZA|   180|Brazil|    14|      DF|           DANILO|     DANILO|   184|\n",
      "|Argentina|     9|      DF|      ACUNA Marcos|     ACUÑA|   172|Brazil|     9|      FW|    GABRIEL JESUS|   G. JESUS|   175|\n",
      "|Argentina|     3|      DF|   MERCADO Gabriel|   MERCADO|   181|Brazil|     3|      DF|          MIRANDA|    MIRANDA|   186|\n",
      "|Argentina|    18|      DF|  OTAMENDI Nicolas|  OTAMENDI|   181|Brazil|    18|      MF|             FRED|       FRED|   169|\n",
      "|Argentina|    17|      DF|       ROJO Marcos|      ROJO|   189|Brazil|    17|      MF|      FERNANDINHO|FERNANDINHO|   179|\n",
      "|Argentina|     7|      DF|    FAZIO Federico|     FAZIO|   199|Brazil|     7|      FW|    DOUGLAS COSTA|   D. COSTA|   182|\n",
      "|Argentina|    13|      GK|     ARMANI Franco|    ARMANI|   189|Brazil|    13|      DF|       MARQUINHOS| MARQUINHOS|   183|\n",
      "|Argentina|     2|      GK|     GUZMAN Nahuel|    GUZMÁN|   192|Brazil|     2|      DF|     THIAGO SILVA|   T. SILVA|   183|\n",
      "+---------+------+--------+------------------+----------+------+------+------+--------+-----------------+-----------+------+\n",
      "\n"
     ]
    }
   ],
   "source": [
    "newdf.show(25)"
   ]
  },
  {
   "cell_type": "markdown",
   "id": "254f982c",
   "metadata": {},
   "source": [
    "#### Inner Join"
   ]
  },
  {
   "cell_type": "code",
   "execution_count": null,
   "id": "3b664945",
   "metadata": {},
   "outputs": [],
   "source": [
    "#Alter the numbers of Argentina to use the joins correctly\n",
    "arg = arg.withColumn('Number', col('Number')+1)"
   ]
  },
  {
   "cell_type": "code",
   "execution_count": 41,
   "id": "e5294628",
   "metadata": {},
   "outputs": [],
   "source": [
    "newdf = arg.join(br, arg.Number == br.Number, 'inner')"
   ]
  },
  {
   "cell_type": "code",
   "execution_count": 42,
   "id": "32a9d3f3",
   "metadata": {},
   "outputs": [
    {
     "name": "stdout",
     "output_type": "stream",
     "text": [
      "+---------+------+--------+------------------+----------+------+------+------+--------+-----------------+-----------+------+\n",
      "|     Team|Number|Position| FIFA Popular Name|Shirt Name|Height|  Team|Number|Position|FIFA Popular Name| Shirt Name|Height|\n",
      "+---------+------+--------+------------------+----------+------+------+------+--------+-----------------+-----------+------+\n",
      "|Argentina|     4|      DF|TAGLIAFICO Nicolas|TAGLIAFICO|   169|Brazil|     4|      DF|    PEDRO GEROMEL|    GEROMEL|   190|\n",
      "|Argentina|    23|      MF|    PAVON Cristian|     PAVÓN|   169|Brazil|    23|      GK|          EDERSON|    EDERSON|   188|\n",
      "|Argentina|    16|      MF|    LANZINI Manuel|   LANZINI|   167|Brazil|    16|      GK|           CASSIO|     CASSIO|   195|\n",
      "|Argentina|    19|      DF|    SALVIO Eduardo|    SALVIO|   167|Brazil|    19|      MF|          WILLIAN|    WILLIAN|   175|\n",
      "|Argentina|    11|      FW|      MESSI Lionel|     MESSI|   170|Brazil|    11|      MF|PHILIPPE COUTINHO|P. COUTINHO|   172|\n",
      "|Argentina|     5|      DF|  ANSALDI Cristian|   ANSALDI|   181|Brazil|     5|      MF|         CASEMIRO|   CASEMIRO|   185|\n",
      "|Argentina|     6|      MF|      BIGLIA Lucas|    BIGLIA|   175|Brazil|     6|      DF|      FILIPE LUIS|FILIPE LUIS|   182|\n",
      "|Argentina|     8|      MF|       BANEGA Ever|    BANEGA|   175|Brazil|     8|      MF|   RENATO AUGUSTO| R. AUGUSTO|   186|\n",
      "|Argentina|    15|      DF| MASCHERANO Javier|MASCHERANO|   174|Brazil|    15|      MF|         PAULINHO|   PAULINHO|   181|\n",
      "|Argentina|    22|      FW|      DYBALA Paulo|    DYBALA|   177|Brazil|    22|      DF|           FAGNER|     FAGNER|   168|\n",
      "|Argentina|    20|      FW|     AGUERO Sergio|    AGÜERO|   172|Brazil|    20|      FW|  ROBERTO FIRMINO|    FIRMINO|   181|\n",
      "|Argentina|    10|      FW|   HIGUAIN Gonzalo|   HIGUAÍN|   184|Brazil|    10|      FW|           NEYMAR|  NEYMAR JR|   175|\n",
      "|Argentina|    12|      MF|    DI MARIA Angel|  DI MARÍA|   178|Brazil|    12|      DF|          MARCELO|    MARCELO|   174|\n",
      "|Argentina|    21|      MF|  LO CELSO Giovani|  LO CELSO|   177|Brazil|    21|      FW|           TAISON|     TAISON|   172|\n",
      "|Argentina|    14|      MF|  MEZA Maximiliano|      MEZA|   180|Brazil|    14|      DF|           DANILO|     DANILO|   184|\n",
      "|Argentina|     9|      DF|      ACUNA Marcos|     ACUÑA|   172|Brazil|     9|      FW|    GABRIEL JESUS|   G. JESUS|   175|\n",
      "|Argentina|     3|      DF|   MERCADO Gabriel|   MERCADO|   181|Brazil|     3|      DF|          MIRANDA|    MIRANDA|   186|\n",
      "|Argentina|    18|      DF|  OTAMENDI Nicolas|  OTAMENDI|   181|Brazil|    18|      MF|             FRED|       FRED|   169|\n",
      "|Argentina|    17|      DF|       ROJO Marcos|      ROJO|   189|Brazil|    17|      MF|      FERNANDINHO|FERNANDINHO|   179|\n",
      "|Argentina|     7|      DF|    FAZIO Federico|     FAZIO|   199|Brazil|     7|      FW|    DOUGLAS COSTA|   D. COSTA|   182|\n",
      "|Argentina|    13|      GK|     ARMANI Franco|    ARMANI|   189|Brazil|    13|      DF|       MARQUINHOS| MARQUINHOS|   183|\n",
      "|Argentina|     2|      GK|     GUZMAN Nahuel|    GUZMÁN|   192|Brazil|     2|      DF|     THIAGO SILVA|   T. SILVA|   183|\n",
      "+---------+------+--------+------------------+----------+------+------+------+--------+-----------------+-----------+------+\n",
      "\n"
     ]
    }
   ],
   "source": [
    "newdf.show(25)"
   ]
  },
  {
   "cell_type": "markdown",
   "id": "af4d39c2",
   "metadata": {},
   "source": [
    "#### Left Join"
   ]
  },
  {
   "cell_type": "code",
   "execution_count": 43,
   "id": "2d28e09f",
   "metadata": {},
   "outputs": [],
   "source": [
    "newdf = arg.join(br, arg.Number == br.Number, 'left')"
   ]
  },
  {
   "cell_type": "code",
   "execution_count": 44,
   "id": "1eda9eba",
   "metadata": {},
   "outputs": [
    {
     "name": "stdout",
     "output_type": "stream",
     "text": [
      "+---------+------+--------+------------------+----------+------+------+------+--------+-----------------+-----------+------+\n",
      "|     Team|Number|Position| FIFA Popular Name|Shirt Name|Height|  Team|Number|Position|FIFA Popular Name| Shirt Name|Height|\n",
      "+---------+------+--------+------------------+----------+------+------+------+--------+-----------------+-----------+------+\n",
      "|Argentina|     4|      DF|TAGLIAFICO Nicolas|TAGLIAFICO|   169|Brazil|     4|      DF|    PEDRO GEROMEL|    GEROMEL|   190|\n",
      "|Argentina|    23|      MF|    PAVON Cristian|     PAVÓN|   169|Brazil|    23|      GK|          EDERSON|    EDERSON|   188|\n",
      "|Argentina|    16|      MF|    LANZINI Manuel|   LANZINI|   167|Brazil|    16|      GK|           CASSIO|     CASSIO|   195|\n",
      "|Argentina|    19|      DF|    SALVIO Eduardo|    SALVIO|   167|Brazil|    19|      MF|          WILLIAN|    WILLIAN|   175|\n",
      "|Argentina|    11|      FW|      MESSI Lionel|     MESSI|   170|Brazil|    11|      MF|PHILIPPE COUTINHO|P. COUTINHO|   172|\n",
      "|Argentina|     5|      DF|  ANSALDI Cristian|   ANSALDI|   181|Brazil|     5|      MF|         CASEMIRO|   CASEMIRO|   185|\n",
      "|Argentina|     6|      MF|      BIGLIA Lucas|    BIGLIA|   175|Brazil|     6|      DF|      FILIPE LUIS|FILIPE LUIS|   182|\n",
      "|Argentina|     8|      MF|       BANEGA Ever|    BANEGA|   175|Brazil|     8|      MF|   RENATO AUGUSTO| R. AUGUSTO|   186|\n",
      "|Argentina|    15|      DF| MASCHERANO Javier|MASCHERANO|   174|Brazil|    15|      MF|         PAULINHO|   PAULINHO|   181|\n",
      "|Argentina|    22|      FW|      DYBALA Paulo|    DYBALA|   177|Brazil|    22|      DF|           FAGNER|     FAGNER|   168|\n",
      "|Argentina|    20|      FW|     AGUERO Sergio|    AGÜERO|   172|Brazil|    20|      FW|  ROBERTO FIRMINO|    FIRMINO|   181|\n",
      "|Argentina|    10|      FW|   HIGUAIN Gonzalo|   HIGUAÍN|   184|Brazil|    10|      FW|           NEYMAR|  NEYMAR JR|   175|\n",
      "|Argentina|    12|      MF|    DI MARIA Angel|  DI MARÍA|   178|Brazil|    12|      DF|          MARCELO|    MARCELO|   174|\n",
      "|Argentina|    21|      MF|  LO CELSO Giovani|  LO CELSO|   177|Brazil|    21|      FW|           TAISON|     TAISON|   172|\n",
      "|Argentina|    14|      MF|  MEZA Maximiliano|      MEZA|   180|Brazil|    14|      DF|           DANILO|     DANILO|   184|\n",
      "|Argentina|     9|      DF|      ACUNA Marcos|     ACUÑA|   172|Brazil|     9|      FW|    GABRIEL JESUS|   G. JESUS|   175|\n",
      "|Argentina|    24|      GK|CABALLERO Wilfredo| CABALLERO|   186|  null|  null|    null|             null|       null|  null|\n",
      "|Argentina|     3|      DF|   MERCADO Gabriel|   MERCADO|   181|Brazil|     3|      DF|          MIRANDA|    MIRANDA|   186|\n",
      "|Argentina|    18|      DF|  OTAMENDI Nicolas|  OTAMENDI|   181|Brazil|    18|      MF|             FRED|       FRED|   169|\n",
      "|Argentina|    17|      DF|       ROJO Marcos|      ROJO|   189|Brazil|    17|      MF|      FERNANDINHO|FERNANDINHO|   179|\n",
      "|Argentina|     7|      DF|    FAZIO Federico|     FAZIO|   199|Brazil|     7|      FW|    DOUGLAS COSTA|   D. COSTA|   182|\n",
      "|Argentina|    13|      GK|     ARMANI Franco|    ARMANI|   189|Brazil|    13|      DF|       MARQUINHOS| MARQUINHOS|   183|\n",
      "|Argentina|     2|      GK|     GUZMAN Nahuel|    GUZMÁN|   192|Brazil|     2|      DF|     THIAGO SILVA|   T. SILVA|   183|\n",
      "+---------+------+--------+------------------+----------+------+------+------+--------+-----------------+-----------+------+\n",
      "\n"
     ]
    }
   ],
   "source": [
    "newdf.show(25)"
   ]
  },
  {
   "cell_type": "markdown",
   "id": "408539c4",
   "metadata": {},
   "source": [
    "#### Right Join"
   ]
  },
  {
   "cell_type": "code",
   "execution_count": 45,
   "id": "cf533cc2",
   "metadata": {},
   "outputs": [],
   "source": [
    "newdf = arg.join(br, arg.Number == br.Number, 'right')"
   ]
  },
  {
   "cell_type": "code",
   "execution_count": 46,
   "id": "53899a6d",
   "metadata": {},
   "outputs": [
    {
     "name": "stdout",
     "output_type": "stream",
     "text": [
      "+---------+------+--------+------------------+----------+------+------+------+--------+-----------------+-----------+------+\n",
      "|     Team|Number|Position| FIFA Popular Name|Shirt Name|Height|  Team|Number|Position|FIFA Popular Name| Shirt Name|Height|\n",
      "+---------+------+--------+------------------+----------+------+------+------+--------+-----------------+-----------+------+\n",
      "|Argentina|    18|      DF|  OTAMENDI Nicolas|  OTAMENDI|   181|Brazil|    18|      MF|             FRED|       FRED|   169|\n",
      "|Argentina|    21|      MF|  LO CELSO Giovani|  LO CELSO|   177|Brazil|    21|      FW|           TAISON|     TAISON|   172|\n",
      "|Argentina|    17|      DF|       ROJO Marcos|      ROJO|   189|Brazil|    17|      MF|      FERNANDINHO|FERNANDINHO|   179|\n",
      "|Argentina|    22|      FW|      DYBALA Paulo|    DYBALA|   177|Brazil|    22|      DF|           FAGNER|     FAGNER|   168|\n",
      "|Argentina|    10|      FW|   HIGUAIN Gonzalo|   HIGUAÍN|   184|Brazil|    10|      FW|           NEYMAR|  NEYMAR JR|   175|\n",
      "|Argentina|    11|      FW|      MESSI Lionel|     MESSI|   170|Brazil|    11|      MF|PHILIPPE COUTINHO|P. COUTINHO|   172|\n",
      "|Argentina|     7|      DF|    FAZIO Federico|     FAZIO|   199|Brazil|     7|      FW|    DOUGLAS COSTA|   D. COSTA|   182|\n",
      "|Argentina|     6|      MF|      BIGLIA Lucas|    BIGLIA|   175|Brazil|     6|      DF|      FILIPE LUIS|FILIPE LUIS|   182|\n",
      "|Argentina|     9|      DF|      ACUNA Marcos|     ACUÑA|   172|Brazil|     9|      FW|    GABRIEL JESUS|   G. JESUS|   175|\n",
      "|Argentina|    13|      GK|     ARMANI Franco|    ARMANI|   189|Brazil|    13|      DF|       MARQUINHOS| MARQUINHOS|   183|\n",
      "|Argentina|    20|      FW|     AGUERO Sergio|    AGÜERO|   172|Brazil|    20|      FW|  ROBERTO FIRMINO|    FIRMINO|   181|\n",
      "|Argentina|    19|      DF|    SALVIO Eduardo|    SALVIO|   167|Brazil|    19|      MF|          WILLIAN|    WILLIAN|   175|\n",
      "|Argentina|     3|      DF|   MERCADO Gabriel|   MERCADO|   181|Brazil|     3|      DF|          MIRANDA|    MIRANDA|   186|\n",
      "|Argentina|    14|      MF|  MEZA Maximiliano|      MEZA|   180|Brazil|    14|      DF|           DANILO|     DANILO|   184|\n",
      "|Argentina|     2|      GK|     GUZMAN Nahuel|    GUZMÁN|   192|Brazil|     2|      DF|     THIAGO SILVA|   T. SILVA|   183|\n",
      "|Argentina|    12|      MF|    DI MARIA Angel|  DI MARÍA|   178|Brazil|    12|      DF|          MARCELO|    MARCELO|   174|\n",
      "|Argentina|    15|      DF| MASCHERANO Javier|MASCHERANO|   174|Brazil|    15|      MF|         PAULINHO|   PAULINHO|   181|\n",
      "|Argentina|     4|      DF|TAGLIAFICO Nicolas|TAGLIAFICO|   169|Brazil|     4|      DF|    PEDRO GEROMEL|    GEROMEL|   190|\n",
      "|Argentina|     5|      DF|  ANSALDI Cristian|   ANSALDI|   181|Brazil|     5|      MF|         CASEMIRO|   CASEMIRO|   185|\n",
      "|Argentina|     8|      MF|       BANEGA Ever|    BANEGA|   175|Brazil|     8|      MF|   RENATO AUGUSTO| R. AUGUSTO|   186|\n",
      "|Argentina|    23|      MF|    PAVON Cristian|     PAVÓN|   169|Brazil|    23|      GK|          EDERSON|    EDERSON|   188|\n",
      "|     null|  null|    null|              null|      null|  null|Brazil|     1|      GK|          ALISSON|  A. BECKER|   193|\n",
      "|Argentina|    16|      MF|    LANZINI Manuel|   LANZINI|   167|Brazil|    16|      GK|           CASSIO|     CASSIO|   195|\n",
      "+---------+------+--------+------------------+----------+------+------+------+--------+-----------------+-----------+------+\n",
      "\n"
     ]
    }
   ],
   "source": [
    "newdf.show(25)"
   ]
  },
  {
   "cell_type": "markdown",
   "id": "1a49cb89",
   "metadata": {},
   "source": [
    "#### Full Join"
   ]
  },
  {
   "cell_type": "code",
   "execution_count": 47,
   "id": "2ca8d229",
   "metadata": {},
   "outputs": [],
   "source": [
    "newdf = arg.join(br, arg.Number == br.Number, 'full')"
   ]
  },
  {
   "cell_type": "code",
   "execution_count": 48,
   "id": "58622437",
   "metadata": {},
   "outputs": [
    {
     "name": "stdout",
     "output_type": "stream",
     "text": [
      "+---------+------+--------+------------------+----------+------+------+------+--------+-----------------+-----------+------+\n",
      "|     Team|Number|Position| FIFA Popular Name|Shirt Name|Height|  Team|Number|Position|FIFA Popular Name| Shirt Name|Height|\n",
      "+---------+------+--------+------------------+----------+------+------+------+--------+-----------------+-----------+------+\n",
      "|     null|  null|    null|              null|      null|  null|Brazil|     1|      GK|          ALISSON|  A. BECKER|   193|\n",
      "|Argentina|     2|      GK|     GUZMAN Nahuel|    GUZMÁN|   192|Brazil|     2|      DF|     THIAGO SILVA|   T. SILVA|   183|\n",
      "|Argentina|     3|      DF|   MERCADO Gabriel|   MERCADO|   181|Brazil|     3|      DF|          MIRANDA|    MIRANDA|   186|\n",
      "|Argentina|     4|      DF|TAGLIAFICO Nicolas|TAGLIAFICO|   169|Brazil|     4|      DF|    PEDRO GEROMEL|    GEROMEL|   190|\n",
      "|Argentina|     5|      DF|  ANSALDI Cristian|   ANSALDI|   181|Brazil|     5|      MF|         CASEMIRO|   CASEMIRO|   185|\n",
      "|Argentina|     6|      MF|      BIGLIA Lucas|    BIGLIA|   175|Brazil|     6|      DF|      FILIPE LUIS|FILIPE LUIS|   182|\n",
      "|Argentina|     7|      DF|    FAZIO Federico|     FAZIO|   199|Brazil|     7|      FW|    DOUGLAS COSTA|   D. COSTA|   182|\n",
      "|Argentina|     8|      MF|       BANEGA Ever|    BANEGA|   175|Brazil|     8|      MF|   RENATO AUGUSTO| R. AUGUSTO|   186|\n",
      "|Argentina|     9|      DF|      ACUNA Marcos|     ACUÑA|   172|Brazil|     9|      FW|    GABRIEL JESUS|   G. JESUS|   175|\n",
      "|Argentina|    10|      FW|   HIGUAIN Gonzalo|   HIGUAÍN|   184|Brazil|    10|      FW|           NEYMAR|  NEYMAR JR|   175|\n",
      "|Argentina|    11|      FW|      MESSI Lionel|     MESSI|   170|Brazil|    11|      MF|PHILIPPE COUTINHO|P. COUTINHO|   172|\n",
      "|Argentina|    12|      MF|    DI MARIA Angel|  DI MARÍA|   178|Brazil|    12|      DF|          MARCELO|    MARCELO|   174|\n",
      "|Argentina|    13|      GK|     ARMANI Franco|    ARMANI|   189|Brazil|    13|      DF|       MARQUINHOS| MARQUINHOS|   183|\n",
      "|Argentina|    14|      MF|  MEZA Maximiliano|      MEZA|   180|Brazil|    14|      DF|           DANILO|     DANILO|   184|\n",
      "|Argentina|    15|      DF| MASCHERANO Javier|MASCHERANO|   174|Brazil|    15|      MF|         PAULINHO|   PAULINHO|   181|\n",
      "|Argentina|    16|      MF|    LANZINI Manuel|   LANZINI|   167|Brazil|    16|      GK|           CASSIO|     CASSIO|   195|\n",
      "|Argentina|    17|      DF|       ROJO Marcos|      ROJO|   189|Brazil|    17|      MF|      FERNANDINHO|FERNANDINHO|   179|\n",
      "|Argentina|    18|      DF|  OTAMENDI Nicolas|  OTAMENDI|   181|Brazil|    18|      MF|             FRED|       FRED|   169|\n",
      "|Argentina|    19|      DF|    SALVIO Eduardo|    SALVIO|   167|Brazil|    19|      MF|          WILLIAN|    WILLIAN|   175|\n",
      "|Argentina|    20|      FW|     AGUERO Sergio|    AGÜERO|   172|Brazil|    20|      FW|  ROBERTO FIRMINO|    FIRMINO|   181|\n",
      "|Argentina|    21|      MF|  LO CELSO Giovani|  LO CELSO|   177|Brazil|    21|      FW|           TAISON|     TAISON|   172|\n",
      "|Argentina|    22|      FW|      DYBALA Paulo|    DYBALA|   177|Brazil|    22|      DF|           FAGNER|     FAGNER|   168|\n",
      "|Argentina|    23|      MF|    PAVON Cristian|     PAVÓN|   169|Brazil|    23|      GK|          EDERSON|    EDERSON|   188|\n",
      "|Argentina|    24|      GK|CABALLERO Wilfredo| CABALLERO|   186|  null|  null|    null|             null|       null|  null|\n",
      "+---------+------+--------+------------------+----------+------+------+------+--------+-----------------+-----------+------+\n",
      "\n"
     ]
    }
   ],
   "source": [
    "newdf.show(25)"
   ]
  },
  {
   "cell_type": "markdown",
   "id": "b0cb4559",
   "metadata": {},
   "source": [
    "#### Semi Join"
   ]
  },
  {
   "cell_type": "code",
   "execution_count": 49,
   "id": "cee68b34",
   "metadata": {},
   "outputs": [],
   "source": [
    "newdf = arg.join(br, arg.Number == br.Number, 'semi')"
   ]
  },
  {
   "cell_type": "code",
   "execution_count": 50,
   "id": "2529bd09",
   "metadata": {},
   "outputs": [
    {
     "name": "stdout",
     "output_type": "stream",
     "text": [
      "+---------+------+--------+------------------+----------+------+\n",
      "|     Team|Number|Position| FIFA Popular Name|Shirt Name|Height|\n",
      "+---------+------+--------+------------------+----------+------+\n",
      "|Argentina|     4|      DF|TAGLIAFICO Nicolas|TAGLIAFICO|   169|\n",
      "|Argentina|    23|      MF|    PAVON Cristian|     PAVÓN|   169|\n",
      "|Argentina|    16|      MF|    LANZINI Manuel|   LANZINI|   167|\n",
      "|Argentina|    19|      DF|    SALVIO Eduardo|    SALVIO|   167|\n",
      "|Argentina|    11|      FW|      MESSI Lionel|     MESSI|   170|\n",
      "|Argentina|     5|      DF|  ANSALDI Cristian|   ANSALDI|   181|\n",
      "|Argentina|     6|      MF|      BIGLIA Lucas|    BIGLIA|   175|\n",
      "|Argentina|     8|      MF|       BANEGA Ever|    BANEGA|   175|\n",
      "|Argentina|    15|      DF| MASCHERANO Javier|MASCHERANO|   174|\n",
      "|Argentina|    22|      FW|      DYBALA Paulo|    DYBALA|   177|\n",
      "|Argentina|    20|      FW|     AGUERO Sergio|    AGÜERO|   172|\n",
      "|Argentina|    10|      FW|   HIGUAIN Gonzalo|   HIGUAÍN|   184|\n",
      "|Argentina|    12|      MF|    DI MARIA Angel|  DI MARÍA|   178|\n",
      "|Argentina|    21|      MF|  LO CELSO Giovani|  LO CELSO|   177|\n",
      "|Argentina|    14|      MF|  MEZA Maximiliano|      MEZA|   180|\n",
      "|Argentina|     9|      DF|      ACUNA Marcos|     ACUÑA|   172|\n",
      "|Argentina|     3|      DF|   MERCADO Gabriel|   MERCADO|   181|\n",
      "|Argentina|    18|      DF|  OTAMENDI Nicolas|  OTAMENDI|   181|\n",
      "|Argentina|    17|      DF|       ROJO Marcos|      ROJO|   189|\n",
      "|Argentina|     7|      DF|    FAZIO Federico|     FAZIO|   199|\n",
      "|Argentina|    13|      GK|     ARMANI Franco|    ARMANI|   189|\n",
      "|Argentina|     2|      GK|     GUZMAN Nahuel|    GUZMÁN|   192|\n",
      "+---------+------+--------+------------------+----------+------+\n",
      "\n"
     ]
    }
   ],
   "source": [
    "newdf.show(25)"
   ]
  },
  {
   "cell_type": "markdown",
   "id": "b6bca1a5",
   "metadata": {},
   "source": [
    "#### Anti Join"
   ]
  },
  {
   "cell_type": "code",
   "execution_count": 51,
   "id": "48d83d1d",
   "metadata": {},
   "outputs": [],
   "source": [
    "newdf = arg.join(br, arg.Number == br.Number, 'anti')"
   ]
  },
  {
   "cell_type": "code",
   "execution_count": 52,
   "id": "47237e88",
   "metadata": {},
   "outputs": [
    {
     "name": "stdout",
     "output_type": "stream",
     "text": [
      "+---------+------+--------+------------------+----------+------+\n",
      "|     Team|Number|Position| FIFA Popular Name|Shirt Name|Height|\n",
      "+---------+------+--------+------------------+----------+------+\n",
      "|Argentina|    24|      GK|CABALLERO Wilfredo| CABALLERO|   186|\n",
      "+---------+------+--------+------------------+----------+------+\n",
      "\n"
     ]
    }
   ],
   "source": [
    "newdf.show(25)"
   ]
  }
 ],
 "metadata": {
  "kernelspec": {
   "display_name": "Python 3 (ipykernel)",
   "language": "python",
   "name": "python3"
  },
  "language_info": {
   "codemirror_mode": {
    "name": "ipython",
    "version": 3
   },
   "file_extension": ".py",
   "mimetype": "text/x-python",
   "name": "python",
   "nbconvert_exporter": "python",
   "pygments_lexer": "ipython3",
   "version": "3.10.1"
  }
 },
 "nbformat": 4,
 "nbformat_minor": 5
}
