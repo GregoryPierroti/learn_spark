{
 "cells": [
  {
   "cell_type": "markdown",
   "id": "c32f17bd",
   "metadata": {},
   "source": [
    "# Apply the union, joins and etc in Pyspark"
   ]
  },
  {
   "cell_type": "code",
   "execution_count": 50,
   "id": "496ea68c",
   "metadata": {},
   "outputs": [],
   "source": [
    "import os, sys\n",
    "from pyspark.sql import SparkSession\n",
    "from pyspark.sql.functions import *\n",
    "from pyspark.sql.types import *\n",
    "from pyspark.sql.window import Window"
   ]
  },
  {
   "cell_type": "markdown",
   "id": "d1efe38b",
   "metadata": {},
   "source": [
    "### Create a Spark Sessions"
   ]
  },
  {
   "cell_type": "code",
   "execution_count": 51,
   "id": "d668a01c",
   "metadata": {},
   "outputs": [],
   "source": [
    "os.environ['PYSPARK_PYTHON'] = sys.executable\n",
    "os.environ['PYSPARK_DRIVER_PYTHON'] = sys.executable\n",
    "spark = SparkSession.builder.getOrCreate()"
   ]
  },
  {
   "cell_type": "markdown",
   "id": "0f1993a9",
   "metadata": {},
   "source": [
    "### Create the dataframe with the same file"
   ]
  },
  {
   "cell_type": "code",
   "execution_count": 52,
   "id": "8b61d5e9",
   "metadata": {},
   "outputs": [],
   "source": [
    "df = spark.read.csv('C:/Users/Gregory Toledo/learn_spark/wc2018-players.csv', header = True, inferSchema=True)"
   ]
  },
  {
   "cell_type": "markdown",
   "id": "e9c7ced6",
   "metadata": {},
   "source": [
    "### Applying the most important changes equal than first notebook for use in the functions correctly"
   ]
  },
  {
   "cell_type": "code",
   "execution_count": 53,
   "id": "fdba8b3f",
   "metadata": {},
   "outputs": [],
   "source": [
    "df = df.withColumnRenamed('Pos.', 'Position')\n",
    "df = df.withColumnRenamed('#', 'Number')\n",
    "df = df.withColumn('Year', substring('Birth Date', -4, 4))\n",
    "df = df.withColumn('Year', column('Year').cast(IntegerType()))\n",
    "\n",
    "day = udf(lambda date: date.split('.')[0])\n",
    "month = udf(lambda date: date.split('.')[1])\n",
    "year = udf(lambda date: date.split('.')[2])\n",
    "\n",
    "df = df.withColumn('Birth Date', concat_ws('-',year('Birth Date'),month('Birth Date'),day('Birth Date')))\n",
    "df = df.withColumn('Birth Date', column('Birth Date').cast(DateType()))"
   ]
  },
  {
   "cell_type": "code",
   "execution_count": 54,
   "id": "043b906d",
   "metadata": {},
   "outputs": [
    {
     "name": "stdout",
     "output_type": "stream",
     "text": [
      "+---------+------+--------+------------------+----------+----------+--------------------+------+------+----+\n",
      "|     Team|Number|Position| FIFA Popular Name|Birth Date|Shirt Name|                Club|Height|Weight|Year|\n",
      "+---------+------+--------+------------------+----------+----------+--------------------+------+------+----+\n",
      "|Argentina|     3|      DF|TAGLIAFICO Nicolas|1992-08-31|TAGLIAFICO|      AFC Ajax (NED)|   169|    65|1992|\n",
      "|Argentina|    22|      MF|    PAVON Cristian|1996-01-21|     PAVÓN|CA Boca Juniors (...|   169|    65|1996|\n",
      "|Argentina|    15|      MF|    LANZINI Manuel|1993-02-15|   LANZINI|West Ham United F...|   167|    66|1993|\n",
      "|Argentina|    18|      DF|    SALVIO Eduardo|1990-07-13|    SALVIO|    SL Benfica (POR)|   167|    69|1990|\n",
      "|Argentina|    10|      FW|      MESSI Lionel|1987-06-24|     MESSI|  FC Barcelona (ESP)|   170|    72|1987|\n",
      "+---------+------+--------+------------------+----------+----------+--------------------+------+------+----+\n",
      "only showing top 5 rows\n",
      "\n"
     ]
    }
   ],
   "source": [
    "df.show(5)"
   ]
  },
  {
   "cell_type": "markdown",
   "id": "11459eba",
   "metadata": {},
   "source": [
    "## Distinct()"
   ]
  },
  {
   "cell_type": "code",
   "execution_count": 55,
   "id": "3174a849",
   "metadata": {},
   "outputs": [
    {
     "name": "stdout",
     "output_type": "stream",
     "text": [
      "+--------------+\n",
      "|          Team|\n",
      "+--------------+\n",
      "|        Russia|\n",
      "|       Senegal|\n",
      "|        Sweden|\n",
      "|       IR Iran|\n",
      "|       Germany|\n",
      "|        France|\n",
      "|     Argentina|\n",
      "|       Belgium|\n",
      "|          Peru|\n",
      "|       Croatia|\n",
      "|       Nigeria|\n",
      "|Korea Republic|\n",
      "|         Spain|\n",
      "|       Denmark|\n",
      "|       Morocco|\n",
      "|        Panama|\n",
      "|       Iceland|\n",
      "|       Uruguay|\n",
      "|        Mexico|\n",
      "|       Tunisia|\n",
      "|  Saudi Arabia|\n",
      "|   Switzerland|\n",
      "|        Brazil|\n",
      "|         Japan|\n",
      "|       England|\n",
      "|        Poland|\n",
      "|      Portugal|\n",
      "|     Australia|\n",
      "|    Costa Rica|\n",
      "|         Egypt|\n",
      "|        Serbia|\n",
      "|      Colombia|\n",
      "+--------------+\n",
      "\n"
     ]
    }
   ],
   "source": [
    "df.select('Team').distinct().show(50)"
   ]
  },
  {
   "cell_type": "markdown",
   "id": "a462f132",
   "metadata": {},
   "source": [
    "## Collect()"
   ]
  },
  {
   "cell_type": "code",
   "execution_count": 56,
   "id": "63aab199",
   "metadata": {},
   "outputs": [],
   "source": [
    "list1 = df.select('Team').distinct().collect()"
   ]
  },
  {
   "cell_type": "code",
   "execution_count": 57,
   "id": "25c34ff2",
   "metadata": {},
   "outputs": [
    {
     "data": {
      "text/plain": [
       "Row(Team='Russia')"
      ]
     },
     "execution_count": 57,
     "metadata": {},
     "output_type": "execute_result"
    }
   ],
   "source": [
    "list1[0]\n",
    "#Row"
   ]
  },
  {
   "cell_type": "code",
   "execution_count": 58,
   "id": "b198c2dc",
   "metadata": {},
   "outputs": [
    {
     "data": {
      "text/plain": [
       "'Russia'"
      ]
     },
     "execution_count": 58,
     "metadata": {},
     "output_type": "execute_result"
    }
   ],
   "source": [
    "list1[0][0]\n",
    "#item"
   ]
  },
  {
   "cell_type": "code",
   "execution_count": 59,
   "id": "95e2f3d7",
   "metadata": {},
   "outputs": [],
   "source": [
    "#List comprehension that take the items on the rows of list1\n",
    "countries = [country[0] for country in list1]"
   ]
  },
  {
   "cell_type": "code",
   "execution_count": 60,
   "id": "69e81e6a",
   "metadata": {},
   "outputs": [
    {
     "name": "stdout",
     "output_type": "stream",
     "text": [
      "['Russia', 'Senegal', 'Sweden', 'IR Iran', 'Germany', 'France', 'Argentina', 'Belgium', 'Peru', 'Croatia', 'Nigeria', 'Korea Republic', 'Spain', 'Denmark', 'Morocco', 'Panama', 'Iceland', 'Uruguay', 'Mexico', 'Tunisia', 'Saudi Arabia', 'Switzerland', 'Brazil', 'Japan', 'England', 'Poland', 'Portugal', 'Australia', 'Costa Rica', 'Egypt', 'Serbia', 'Colombia']\n"
     ]
    }
   ],
   "source": [
    "print(countries)"
   ]
  },
  {
   "cell_type": "markdown",
   "id": "6af96c79",
   "metadata": {},
   "source": [
    "## When() / Otherwise()"
   ]
  },
  {
   "cell_type": "code",
   "execution_count": 61,
   "id": "ad9a9e98",
   "metadata": {
    "scrolled": true
   },
   "outputs": [
    {
     "name": "stdout",
     "output_type": "stream",
     "text": [
      "+---------+------+--------+------------------+----------+----------+--------------------+------+------+----+----------+\n",
      "|     Team|Number|Position| FIFA Popular Name|Birth Date|Shirt Name|                Club|Height|Weight|Year|New_Column|\n",
      "+---------+------+--------+------------------+----------+----------+--------------------+------+------+----+----------+\n",
      "|Argentina|     3|      DF|TAGLIAFICO Nicolas|1992-08-31|TAGLIAFICO|      AFC Ajax (NED)|   169|    65|1992|    Verify|\n",
      "|Argentina|    22|      MF|    PAVON Cristian|1996-01-21|     PAVÓN|CA Boca Juniors (...|   169|    65|1996|    Verify|\n",
      "|Argentina|    15|      MF|    LANZINI Manuel|1993-02-15|   LANZINI|West Ham United F...|   167|    66|1993|    Verify|\n",
      "|Argentina|    18|      DF|    SALVIO Eduardo|1990-07-13|    SALVIO|    SL Benfica (POR)|   167|    69|1990|    Verify|\n",
      "|Argentina|    10|      FW|      MESSI Lionel|1987-06-24|     MESSI|  FC Barcelona (ESP)|   170|    72|1987|    Verify|\n",
      "+---------+------+--------+------------------+----------+----------+--------------------+------+------+----+----------+\n",
      "only showing top 5 rows\n",
      "\n"
     ]
    }
   ],
   "source": [
    "# Similar then if/else\n",
    "\n",
    "df.withColumn('New_Column', when(col('Team') == 'Brazil', 'Brazilian').otherwise('Verify')).show(5)"
   ]
  },
  {
   "cell_type": "code",
   "execution_count": 71,
   "id": "b3f9a462",
   "metadata": {},
   "outputs": [],
   "source": [
    "europe = ['Sweden', 'Germany', 'France', 'Belgium', 'Croatia', 'Spain', 'Denmark', 'Iceland', 'Switzerland', 'England', 'Poland','Portugal','Serbia']\n",
    "asia = ['Russia', 'IR Iran', 'Korea Republic', 'Saudi Arabia', 'Japan']\n",
    "oceania = ['Australia']\n",
    "africa = ['Nigeria' , 'Morocco', 'Senegal', 'Tunisia', 'Egypt']\n",
    "north_america = ['Panama', 'Mexico', 'Costa Rica']\n",
    "south_america = ['Argentina', 'Brazil', 'Uruguay', 'Colombia', 'Peru']"
   ]
  },
  {
   "cell_type": "code",
   "execution_count": 72,
   "id": "271e6435",
   "metadata": {},
   "outputs": [],
   "source": [
    "df = df.withColumn('Continent', when(col('Team').isin(asia), 'Asian')\\\n",
    "              .when(col('Team').isin(oceania), 'oceanic')\\\n",
    "              .when(col('Team').isin(africa), 'African')\\\n",
    "              .when(col('Team').isin(europe), 'european')\\\n",
    "              .when(col('Team').isin(south_america), 'South American')\\\n",
    "              .when(col('Team').isin(north_america), 'North American')\\\n",
    "              .otherwise('Verify'))"
   ]
  },
  {
   "cell_type": "markdown",
   "id": "25bfcf84",
   "metadata": {},
   "source": [
    "## Union()"
   ]
  },
  {
   "cell_type": "markdown",
   "id": "6724e72a",
   "metadata": {},
   "source": [
    "##### This function need to have 2 df's with the same amount of colmuns"
   ]
  },
  {
   "cell_type": "code",
   "execution_count": 84,
   "id": "7a66b1d2",
   "metadata": {},
   "outputs": [],
   "source": [
    "df_south_america = df.where('Continent = \"South American\"')\n",
    "df_north_america = df.where('Continent = \"North American\"')"
   ]
  },
  {
   "cell_type": "code",
   "execution_count": 85,
   "id": "7e8bc79e",
   "metadata": {},
   "outputs": [],
   "source": [
    "df_america = df_south_america.union(df_north_america)"
   ]
  },
  {
   "cell_type": "code",
   "execution_count": 87,
   "id": "60ce2cb0",
   "metadata": {},
   "outputs": [
    {
     "name": "stdout",
     "output_type": "stream",
     "text": [
      "+----------+\n",
      "|      Team|\n",
      "+----------+\n",
      "| Argentina|\n",
      "|      Peru|\n",
      "|   Uruguay|\n",
      "|    Brazil|\n",
      "|  Colombia|\n",
      "|    Panama|\n",
      "|    Mexico|\n",
      "|Costa Rica|\n",
      "+----------+\n",
      "\n"
     ]
    }
   ],
   "source": [
    "df_america.select('Team').distinct().show()"
   ]
  },
  {
   "cell_type": "markdown",
   "id": "2e5fcf03",
   "metadata": {},
   "source": [
    "## Joins"
   ]
  },
  {
   "cell_type": "code",
   "execution_count": null,
   "id": "1a26bb02",
   "metadata": {},
   "outputs": [],
   "source": []
  },
  {
   "cell_type": "code",
   "execution_count": null,
   "id": "05db4e2c",
   "metadata": {},
   "outputs": [],
   "source": []
  },
  {
   "cell_type": "code",
   "execution_count": null,
   "id": "8fcb0f82",
   "metadata": {},
   "outputs": [],
   "source": []
  },
  {
   "cell_type": "code",
   "execution_count": null,
   "id": "1f6b8fd1",
   "metadata": {},
   "outputs": [],
   "source": []
  },
  {
   "cell_type": "code",
   "execution_count": null,
   "id": "6967a048",
   "metadata": {},
   "outputs": [],
   "source": []
  },
  {
   "cell_type": "code",
   "execution_count": null,
   "id": "68a6c5b7",
   "metadata": {},
   "outputs": [],
   "source": []
  },
  {
   "cell_type": "code",
   "execution_count": null,
   "id": "64cd0fae",
   "metadata": {},
   "outputs": [],
   "source": []
  },
  {
   "cell_type": "code",
   "execution_count": null,
   "id": "3b664945",
   "metadata": {},
   "outputs": [],
   "source": []
  },
  {
   "cell_type": "code",
   "execution_count": null,
   "id": "e5294628",
   "metadata": {},
   "outputs": [],
   "source": []
  }
 ],
 "metadata": {
  "kernelspec": {
   "display_name": "Python 3 (ipykernel)",
   "language": "python",
   "name": "python3"
  },
  "language_info": {
   "codemirror_mode": {
    "name": "ipython",
    "version": 3
   },
   "file_extension": ".py",
   "mimetype": "text/x-python",
   "name": "python",
   "nbconvert_exporter": "python",
   "pygments_lexer": "ipython3",
   "version": "3.10.1"
  }
 },
 "nbformat": 4,
 "nbformat_minor": 5
}
